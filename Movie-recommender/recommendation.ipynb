{
 "cells": [
  {
   "cell_type": "code",
   "execution_count": 2,
   "metadata": {},
   "outputs": [],
   "source": [
    "import pandas as pd\n",
    "import numpy as np"
   ]
  },
  {
   "cell_type": "code",
   "execution_count": 7,
   "metadata": {},
   "outputs": [],
   "source": [
    "movies = pd.read_csv('movies_data.csv')"
   ]
  },
  {
   "cell_type": "code",
   "execution_count": 8,
   "metadata": {
    "scrolled": true
   },
   "outputs": [
    {
     "data": {
      "text/html": [
       "<div>\n",
       "<style scoped>\n",
       "    .dataframe tbody tr th:only-of-type {\n",
       "        vertical-align: middle;\n",
       "    }\n",
       "\n",
       "    .dataframe tbody tr th {\n",
       "        vertical-align: top;\n",
       "    }\n",
       "\n",
       "    .dataframe thead th {\n",
       "        text-align: right;\n",
       "    }\n",
       "</style>\n",
       "<table border=\"1\" class=\"dataframe\">\n",
       "  <thead>\n",
       "    <tr style=\"text-align: right;\">\n",
       "      <th></th>\n",
       "      <th>Unnamed: 0</th>\n",
       "      <th>Unnamed: 0.1</th>\n",
       "      <th>id</th>\n",
       "      <th>title</th>\n",
       "      <th>overview</th>\n",
       "      <th>popularity</th>\n",
       "      <th>vote_average</th>\n",
       "      <th>vote_count</th>\n",
       "      <th>release_date</th>\n",
       "      <th>keywords</th>\n",
       "      <th>genres</th>\n",
       "      <th>cast</th>\n",
       "      <th>crew</th>\n",
       "      <th>cast_poster</th>\n",
       "      <th>crew_poster</th>\n",
       "    </tr>\n",
       "  </thead>\n",
       "  <tbody>\n",
       "    <tr>\n",
       "      <th>0</th>\n",
       "      <td>0</td>\n",
       "      <td>0</td>\n",
       "      <td>19404</td>\n",
       "      <td>Dilwale Dulhania Le Jayenge</td>\n",
       "      <td>Raj is a rich, carefree, happy-go-lucky second...</td>\n",
       "      <td>31.222</td>\n",
       "      <td>8.7</td>\n",
       "      <td>3323</td>\n",
       "      <td>1995-10-20</td>\n",
       "      <td>NaN</td>\n",
       "      <td>Comedy, Drama, Romance</td>\n",
       "      <td>Shah Rukh Khan, Kajol, Amrish Puri, Anupam Khe...</td>\n",
       "      <td>Aditya Chopra</td>\n",
       "      <td>/3uP0HPmCa0VTmyzTfa3E4WI9qgK.jpg, /cwum24EsxNw...</td>\n",
       "      <td>None</td>\n",
       "    </tr>\n",
       "    <tr>\n",
       "      <th>1</th>\n",
       "      <td>1</td>\n",
       "      <td>1</td>\n",
       "      <td>278</td>\n",
       "      <td>The Shawshank Redemption</td>\n",
       "      <td>Framed in the 1940s for the double murder of h...</td>\n",
       "      <td>76.654</td>\n",
       "      <td>8.7</td>\n",
       "      <td>20434</td>\n",
       "      <td>1994-09-23</td>\n",
       "      <td>prison, corruption, police brutality, prison c...</td>\n",
       "      <td>Drama, Crime</td>\n",
       "      <td>Tim Robbins, Morgan Freeman, Bob Gunton, Willi...</td>\n",
       "      <td>Frank Darabont</td>\n",
       "      <td>/hsCu1JUzQQ4pl7uFxAVFLOs9yHh.jpg, /oIciQWr8VwK...</td>\n",
       "      <td>/nvOqAQhKtXdHtczgqanoCfltsxJ.jpg</td>\n",
       "    </tr>\n",
       "    <tr>\n",
       "      <th>2</th>\n",
       "      <td>2</td>\n",
       "      <td>2</td>\n",
       "      <td>238</td>\n",
       "      <td>The Godfather</td>\n",
       "      <td>Spanning the years 1945 to 1955, a chronicle o...</td>\n",
       "      <td>75.306</td>\n",
       "      <td>8.7</td>\n",
       "      <td>15270</td>\n",
       "      <td>1972-03-14</td>\n",
       "      <td>italy, loss of loved one, love at first sight,...</td>\n",
       "      <td>Drama, Crime</td>\n",
       "      <td>Marlon Brando, Al Pacino, James Caan, Robert D...</td>\n",
       "      <td>Francis Ford Coppola</td>\n",
       "      <td>/fuTEPMsBtV1zE98ujPONbKiYDc2.jpg, /fMDFeVf0pjo...</td>\n",
       "      <td>/mGKkVp3l9cipPt10AqoQnwaPrfI.jpg</td>\n",
       "    </tr>\n",
       "    <tr>\n",
       "      <th>3</th>\n",
       "      <td>3</td>\n",
       "      <td>3</td>\n",
       "      <td>724089</td>\n",
       "      <td>Gabriel's Inferno Part II</td>\n",
       "      <td>Professor Gabriel Emerson finally learns the t...</td>\n",
       "      <td>21.501</td>\n",
       "      <td>8.6</td>\n",
       "      <td>1369</td>\n",
       "      <td>2020-07-31</td>\n",
       "      <td>based on novel or book</td>\n",
       "      <td>Romance</td>\n",
       "      <td>Melanie Zanetti, Giulio Berruti, James Andrew ...</td>\n",
       "      <td>Tosca Musk</td>\n",
       "      <td>/lbUQ7ilvBtWMU23reKsHg3jRmsf.jpg, /ktPKniWGVkm...</td>\n",
       "      <td>/usR5NspRlWgXKUe9qVsCtTCpe4l.jpg</td>\n",
       "    </tr>\n",
       "    <tr>\n",
       "      <th>4</th>\n",
       "      <td>4</td>\n",
       "      <td>4</td>\n",
       "      <td>424</td>\n",
       "      <td>Schindler's List</td>\n",
       "      <td>The true story of how businessman Oskar Schind...</td>\n",
       "      <td>40.585</td>\n",
       "      <td>8.6</td>\n",
       "      <td>12202</td>\n",
       "      <td>1993-11-30</td>\n",
       "      <td>based on novel or book, factory, concentration...</td>\n",
       "      <td>Drama, History, War</td>\n",
       "      <td>Liam Neeson, Ben Kingsley, Ralph Fiennes, Caro...</td>\n",
       "      <td>Steven Spielberg</td>\n",
       "      <td>/bboldwqSC6tdw2iL6631c98l2Mn.jpg, /vQtBqpF2HDd...</td>\n",
       "      <td>/tZxcg19YQ3e8fJ0pOs7hjlnmmr6.jpg</td>\n",
       "    </tr>\n",
       "  </tbody>\n",
       "</table>\n",
       "</div>"
      ],
      "text/plain": [
       "   Unnamed: 0  Unnamed: 0.1      id                        title  \\\n",
       "0           0             0   19404  Dilwale Dulhania Le Jayenge   \n",
       "1           1             1     278     The Shawshank Redemption   \n",
       "2           2             2     238                The Godfather   \n",
       "3           3             3  724089    Gabriel's Inferno Part II   \n",
       "4           4             4     424             Schindler's List   \n",
       "\n",
       "                                            overview  popularity  \\\n",
       "0  Raj is a rich, carefree, happy-go-lucky second...      31.222   \n",
       "1  Framed in the 1940s for the double murder of h...      76.654   \n",
       "2  Spanning the years 1945 to 1955, a chronicle o...      75.306   \n",
       "3  Professor Gabriel Emerson finally learns the t...      21.501   \n",
       "4  The true story of how businessman Oskar Schind...      40.585   \n",
       "\n",
       "   vote_average  vote_count release_date  \\\n",
       "0           8.7        3323   1995-10-20   \n",
       "1           8.7       20434   1994-09-23   \n",
       "2           8.7       15270   1972-03-14   \n",
       "3           8.6        1369   2020-07-31   \n",
       "4           8.6       12202   1993-11-30   \n",
       "\n",
       "                                            keywords                  genres  \\\n",
       "0                                                NaN  Comedy, Drama, Romance   \n",
       "1  prison, corruption, police brutality, prison c...            Drama, Crime   \n",
       "2  italy, loss of loved one, love at first sight,...            Drama, Crime   \n",
       "3                             based on novel or book                 Romance   \n",
       "4  based on novel or book, factory, concentration...     Drama, History, War   \n",
       "\n",
       "                                                cast                  crew  \\\n",
       "0  Shah Rukh Khan, Kajol, Amrish Puri, Anupam Khe...         Aditya Chopra   \n",
       "1  Tim Robbins, Morgan Freeman, Bob Gunton, Willi...        Frank Darabont   \n",
       "2  Marlon Brando, Al Pacino, James Caan, Robert D...  Francis Ford Coppola   \n",
       "3  Melanie Zanetti, Giulio Berruti, James Andrew ...            Tosca Musk   \n",
       "4  Liam Neeson, Ben Kingsley, Ralph Fiennes, Caro...      Steven Spielberg   \n",
       "\n",
       "                                         cast_poster  \\\n",
       "0  /3uP0HPmCa0VTmyzTfa3E4WI9qgK.jpg, /cwum24EsxNw...   \n",
       "1  /hsCu1JUzQQ4pl7uFxAVFLOs9yHh.jpg, /oIciQWr8VwK...   \n",
       "2  /fuTEPMsBtV1zE98ujPONbKiYDc2.jpg, /fMDFeVf0pjo...   \n",
       "3  /lbUQ7ilvBtWMU23reKsHg3jRmsf.jpg, /ktPKniWGVkm...   \n",
       "4  /bboldwqSC6tdw2iL6631c98l2Mn.jpg, /vQtBqpF2HDd...   \n",
       "\n",
       "                        crew_poster  \n",
       "0                              None  \n",
       "1  /nvOqAQhKtXdHtczgqanoCfltsxJ.jpg  \n",
       "2  /mGKkVp3l9cipPt10AqoQnwaPrfI.jpg  \n",
       "3  /usR5NspRlWgXKUe9qVsCtTCpe4l.jpg  \n",
       "4  /tZxcg19YQ3e8fJ0pOs7hjlnmmr6.jpg  "
      ]
     },
     "execution_count": 8,
     "metadata": {},
     "output_type": "execute_result"
    }
   ],
   "source": [
    "movies.head()"
   ]
  },
  {
   "cell_type": "code",
   "execution_count": 9,
   "metadata": {},
   "outputs": [],
   "source": [
    "movies.dropna(inplace=True)"
   ]
  },
  {
   "cell_type": "markdown",
   "metadata": {},
   "source": [
    "movies.isnull().sum()"
   ]
  },
  {
   "cell_type": "code",
   "execution_count": 10,
   "metadata": {},
   "outputs": [
    {
     "name": "stdout",
     "output_type": "stream",
     "text": [
      "<class 'pandas.core.frame.DataFrame'>\n",
      "Int64Index: 8878 entries, 1 to 9463\n",
      "Data columns (total 15 columns):\n",
      " #   Column        Non-Null Count  Dtype  \n",
      "---  ------        --------------  -----  \n",
      " 0   Unnamed: 0    8878 non-null   int64  \n",
      " 1   Unnamed: 0.1  8878 non-null   int64  \n",
      " 2   id            8878 non-null   int64  \n",
      " 3   title         8878 non-null   object \n",
      " 4   overview      8878 non-null   object \n",
      " 5   popularity    8878 non-null   float64\n",
      " 6   vote_average  8878 non-null   float64\n",
      " 7   vote_count    8878 non-null   int64  \n",
      " 8   release_date  8878 non-null   object \n",
      " 9   keywords      8878 non-null   object \n",
      " 10  genres        8878 non-null   object \n",
      " 11  cast          8878 non-null   object \n",
      " 12  crew          8878 non-null   object \n",
      " 13  cast_poster   8878 non-null   object \n",
      " 14  crew_poster   8878 non-null   object \n",
      "dtypes: float64(2), int64(4), object(9)\n",
      "memory usage: 1.1+ MB\n"
     ]
    }
   ],
   "source": [
    "movies.info()"
   ]
  },
  {
   "cell_type": "code",
   "execution_count": 11,
   "metadata": {},
   "outputs": [],
   "source": [
    "data = movies[['id','title','overview','keywords','genres','cast','crew']]"
   ]
  },
  {
   "cell_type": "code",
   "execution_count": 12,
   "metadata": {
    "scrolled": true
   },
   "outputs": [
    {
     "data": {
      "text/html": [
       "<div>\n",
       "<style scoped>\n",
       "    .dataframe tbody tr th:only-of-type {\n",
       "        vertical-align: middle;\n",
       "    }\n",
       "\n",
       "    .dataframe tbody tr th {\n",
       "        vertical-align: top;\n",
       "    }\n",
       "\n",
       "    .dataframe thead th {\n",
       "        text-align: right;\n",
       "    }\n",
       "</style>\n",
       "<table border=\"1\" class=\"dataframe\">\n",
       "  <thead>\n",
       "    <tr style=\"text-align: right;\">\n",
       "      <th></th>\n",
       "      <th>id</th>\n",
       "      <th>title</th>\n",
       "      <th>overview</th>\n",
       "      <th>keywords</th>\n",
       "      <th>genres</th>\n",
       "      <th>cast</th>\n",
       "      <th>crew</th>\n",
       "    </tr>\n",
       "  </thead>\n",
       "  <tbody>\n",
       "    <tr>\n",
       "      <th>1</th>\n",
       "      <td>278</td>\n",
       "      <td>The Shawshank Redemption</td>\n",
       "      <td>Framed in the 1940s for the double murder of h...</td>\n",
       "      <td>prison, corruption, police brutality, prison c...</td>\n",
       "      <td>Drama, Crime</td>\n",
       "      <td>Tim Robbins, Morgan Freeman, Bob Gunton, Willi...</td>\n",
       "      <td>Frank Darabont</td>\n",
       "    </tr>\n",
       "    <tr>\n",
       "      <th>2</th>\n",
       "      <td>238</td>\n",
       "      <td>The Godfather</td>\n",
       "      <td>Spanning the years 1945 to 1955, a chronicle o...</td>\n",
       "      <td>italy, loss of loved one, love at first sight,...</td>\n",
       "      <td>Drama, Crime</td>\n",
       "      <td>Marlon Brando, Al Pacino, James Caan, Robert D...</td>\n",
       "      <td>Francis Ford Coppola</td>\n",
       "    </tr>\n",
       "    <tr>\n",
       "      <th>3</th>\n",
       "      <td>724089</td>\n",
       "      <td>Gabriel's Inferno Part II</td>\n",
       "      <td>Professor Gabriel Emerson finally learns the t...</td>\n",
       "      <td>based on novel or book</td>\n",
       "      <td>Romance</td>\n",
       "      <td>Melanie Zanetti, Giulio Berruti, James Andrew ...</td>\n",
       "      <td>Tosca Musk</td>\n",
       "    </tr>\n",
       "    <tr>\n",
       "      <th>4</th>\n",
       "      <td>424</td>\n",
       "      <td>Schindler's List</td>\n",
       "      <td>The true story of how businessman Oskar Schind...</td>\n",
       "      <td>based on novel or book, factory, concentration...</td>\n",
       "      <td>Drama, History, War</td>\n",
       "      <td>Liam Neeson, Ben Kingsley, Ralph Fiennes, Caro...</td>\n",
       "      <td>Steven Spielberg</td>\n",
       "    </tr>\n",
       "    <tr>\n",
       "      <th>6</th>\n",
       "      <td>240</td>\n",
       "      <td>The Godfather: Part II</td>\n",
       "      <td>In the continuing saga of the Corleone crime f...</td>\n",
       "      <td>italy, italian american, cuba, symbolism, gang...</td>\n",
       "      <td>Drama, Crime</td>\n",
       "      <td>Al Pacino, Robert Duvall, Diane Keaton, Robert...</td>\n",
       "      <td>Francis Ford Coppola</td>\n",
       "    </tr>\n",
       "  </tbody>\n",
       "</table>\n",
       "</div>"
      ],
      "text/plain": [
       "       id                      title  \\\n",
       "1     278   The Shawshank Redemption   \n",
       "2     238              The Godfather   \n",
       "3  724089  Gabriel's Inferno Part II   \n",
       "4     424           Schindler's List   \n",
       "6     240     The Godfather: Part II   \n",
       "\n",
       "                                            overview  \\\n",
       "1  Framed in the 1940s for the double murder of h...   \n",
       "2  Spanning the years 1945 to 1955, a chronicle o...   \n",
       "3  Professor Gabriel Emerson finally learns the t...   \n",
       "4  The true story of how businessman Oskar Schind...   \n",
       "6  In the continuing saga of the Corleone crime f...   \n",
       "\n",
       "                                            keywords               genres  \\\n",
       "1  prison, corruption, police brutality, prison c...         Drama, Crime   \n",
       "2  italy, loss of loved one, love at first sight,...         Drama, Crime   \n",
       "3                             based on novel or book              Romance   \n",
       "4  based on novel or book, factory, concentration...  Drama, History, War   \n",
       "6  italy, italian american, cuba, symbolism, gang...         Drama, Crime   \n",
       "\n",
       "                                                cast                  crew  \n",
       "1  Tim Robbins, Morgan Freeman, Bob Gunton, Willi...        Frank Darabont  \n",
       "2  Marlon Brando, Al Pacino, James Caan, Robert D...  Francis Ford Coppola  \n",
       "3  Melanie Zanetti, Giulio Berruti, James Andrew ...            Tosca Musk  \n",
       "4  Liam Neeson, Ben Kingsley, Ralph Fiennes, Caro...      Steven Spielberg  \n",
       "6  Al Pacino, Robert Duvall, Diane Keaton, Robert...  Francis Ford Coppola  "
      ]
     },
     "execution_count": 12,
     "metadata": {},
     "output_type": "execute_result"
    }
   ],
   "source": [
    "data.head()"
   ]
  },
  {
   "cell_type": "code",
   "execution_count": 13,
   "metadata": {},
   "outputs": [
    {
     "name": "stderr",
     "output_type": "stream",
     "text": [
      "C:\\Users\\shekh\\Anaconda3\\lib\\site-packages\\pandas\\core\\generic.py:5303: SettingWithCopyWarning: \n",
      "A value is trying to be set on a copy of a slice from a DataFrame.\n",
      "Try using .loc[row_indexer,col_indexer] = value instead\n",
      "\n",
      "See the caveats in the documentation: https://pandas.pydata.org/pandas-docs/stable/user_guide/indexing.html#returning-a-view-versus-a-copy\n",
      "  self[name] = value\n"
     ]
    }
   ],
   "source": [
    "data.overview = data.overview.apply(lambda x:x.split())\n",
    "data.genres=data['genres'].apply(lambda x:[i.replace(' ','') for i in x])\n",
    "data.keywords=data['keywords'].apply(lambda x:[i.replace(' ','') for i in x])\n",
    "data.cast=data['cast'].apply(lambda x:[i.replace(' ','') for i in x])\n",
    "data.crew=data['crew'].apply(lambda x:[i.replace(' ','') for i in x])"
   ]
  },
  {
   "cell_type": "code",
   "execution_count": 14,
   "metadata": {},
   "outputs": [
    {
     "data": {
      "text/html": [
       "<div>\n",
       "<style scoped>\n",
       "    .dataframe tbody tr th:only-of-type {\n",
       "        vertical-align: middle;\n",
       "    }\n",
       "\n",
       "    .dataframe tbody tr th {\n",
       "        vertical-align: top;\n",
       "    }\n",
       "\n",
       "    .dataframe thead th {\n",
       "        text-align: right;\n",
       "    }\n",
       "</style>\n",
       "<table border=\"1\" class=\"dataframe\">\n",
       "  <thead>\n",
       "    <tr style=\"text-align: right;\">\n",
       "      <th></th>\n",
       "      <th>id</th>\n",
       "      <th>title</th>\n",
       "      <th>overview</th>\n",
       "      <th>keywords</th>\n",
       "      <th>genres</th>\n",
       "      <th>cast</th>\n",
       "      <th>crew</th>\n",
       "    </tr>\n",
       "  </thead>\n",
       "  <tbody>\n",
       "    <tr>\n",
       "      <th>1</th>\n",
       "      <td>278</td>\n",
       "      <td>The Shawshank Redemption</td>\n",
       "      <td>[Framed, in, the, 1940s, for, the, double, mur...</td>\n",
       "      <td>[p, r, i, s, o, n, ,, , c, o, r, r, u, p, t, i...</td>\n",
       "      <td>[D, r, a, m, a, ,, , C, r, i, m, e]</td>\n",
       "      <td>[T, i, m, , R, o, b, b, i, n, s, ,, , M, o, r,...</td>\n",
       "      <td>[F, r, a, n, k, , D, a, r, a, b, o, n, t]</td>\n",
       "    </tr>\n",
       "    <tr>\n",
       "      <th>2</th>\n",
       "      <td>238</td>\n",
       "      <td>The Godfather</td>\n",
       "      <td>[Spanning, the, years, 1945, to, 1955,, a, chr...</td>\n",
       "      <td>[i, t, a, l, y, ,, , l, o, s, s, , o, f, , l, ...</td>\n",
       "      <td>[D, r, a, m, a, ,, , C, r, i, m, e]</td>\n",
       "      <td>[M, a, r, l, o, n, , B, r, a, n, d, o, ,, , A,...</td>\n",
       "      <td>[F, r, a, n, c, i, s, , F, o, r, d, , C, o, p,...</td>\n",
       "    </tr>\n",
       "    <tr>\n",
       "      <th>3</th>\n",
       "      <td>724089</td>\n",
       "      <td>Gabriel's Inferno Part II</td>\n",
       "      <td>[Professor, Gabriel, Emerson, finally, learns,...</td>\n",
       "      <td>[b, a, s, e, d, , o, n, , n, o, v, e, l, , o, ...</td>\n",
       "      <td>[R, o, m, a, n, c, e]</td>\n",
       "      <td>[M, e, l, a, n, i, e, , Z, a, n, e, t, t, i, ,...</td>\n",
       "      <td>[T, o, s, c, a, , M, u, s, k]</td>\n",
       "    </tr>\n",
       "    <tr>\n",
       "      <th>4</th>\n",
       "      <td>424</td>\n",
       "      <td>Schindler's List</td>\n",
       "      <td>[The, true, story, of, how, businessman, Oskar...</td>\n",
       "      <td>[b, a, s, e, d, , o, n, , n, o, v, e, l, , o, ...</td>\n",
       "      <td>[D, r, a, m, a, ,, , H, i, s, t, o, r, y, ,, ,...</td>\n",
       "      <td>[L, i, a, m, , N, e, e, s, o, n, ,, , B, e, n,...</td>\n",
       "      <td>[S, t, e, v, e, n, , S, p, i, e, l, b, e, r, g]</td>\n",
       "    </tr>\n",
       "    <tr>\n",
       "      <th>6</th>\n",
       "      <td>240</td>\n",
       "      <td>The Godfather: Part II</td>\n",
       "      <td>[In, the, continuing, saga, of, the, Corleone,...</td>\n",
       "      <td>[i, t, a, l, y, ,, , i, t, a, l, i, a, n, , a,...</td>\n",
       "      <td>[D, r, a, m, a, ,, , C, r, i, m, e]</td>\n",
       "      <td>[A, l, , P, a, c, i, n, o, ,, , R, o, b, e, r,...</td>\n",
       "      <td>[F, r, a, n, c, i, s, , F, o, r, d, , C, o, p,...</td>\n",
       "    </tr>\n",
       "  </tbody>\n",
       "</table>\n",
       "</div>"
      ],
      "text/plain": [
       "       id                      title  \\\n",
       "1     278   The Shawshank Redemption   \n",
       "2     238              The Godfather   \n",
       "3  724089  Gabriel's Inferno Part II   \n",
       "4     424           Schindler's List   \n",
       "6     240     The Godfather: Part II   \n",
       "\n",
       "                                            overview  \\\n",
       "1  [Framed, in, the, 1940s, for, the, double, mur...   \n",
       "2  [Spanning, the, years, 1945, to, 1955,, a, chr...   \n",
       "3  [Professor, Gabriel, Emerson, finally, learns,...   \n",
       "4  [The, true, story, of, how, businessman, Oskar...   \n",
       "6  [In, the, continuing, saga, of, the, Corleone,...   \n",
       "\n",
       "                                            keywords  \\\n",
       "1  [p, r, i, s, o, n, ,, , c, o, r, r, u, p, t, i...   \n",
       "2  [i, t, a, l, y, ,, , l, o, s, s, , o, f, , l, ...   \n",
       "3  [b, a, s, e, d, , o, n, , n, o, v, e, l, , o, ...   \n",
       "4  [b, a, s, e, d, , o, n, , n, o, v, e, l, , o, ...   \n",
       "6  [i, t, a, l, y, ,, , i, t, a, l, i, a, n, , a,...   \n",
       "\n",
       "                                              genres  \\\n",
       "1                [D, r, a, m, a, ,, , C, r, i, m, e]   \n",
       "2                [D, r, a, m, a, ,, , C, r, i, m, e]   \n",
       "3                              [R, o, m, a, n, c, e]   \n",
       "4  [D, r, a, m, a, ,, , H, i, s, t, o, r, y, ,, ,...   \n",
       "6                [D, r, a, m, a, ,, , C, r, i, m, e]   \n",
       "\n",
       "                                                cast  \\\n",
       "1  [T, i, m, , R, o, b, b, i, n, s, ,, , M, o, r,...   \n",
       "2  [M, a, r, l, o, n, , B, r, a, n, d, o, ,, , A,...   \n",
       "3  [M, e, l, a, n, i, e, , Z, a, n, e, t, t, i, ,...   \n",
       "4  [L, i, a, m, , N, e, e, s, o, n, ,, , B, e, n,...   \n",
       "6  [A, l, , P, a, c, i, n, o, ,, , R, o, b, e, r,...   \n",
       "\n",
       "                                                crew  \n",
       "1          [F, r, a, n, k, , D, a, r, a, b, o, n, t]  \n",
       "2  [F, r, a, n, c, i, s, , F, o, r, d, , C, o, p,...  \n",
       "3                      [T, o, s, c, a, , M, u, s, k]  \n",
       "4    [S, t, e, v, e, n, , S, p, i, e, l, b, e, r, g]  \n",
       "6  [F, r, a, n, c, i, s, , F, o, r, d, , C, o, p,...  "
      ]
     },
     "execution_count": 14,
     "metadata": {},
     "output_type": "execute_result"
    }
   ],
   "source": [
    "data.head()"
   ]
  },
  {
   "cell_type": "code",
   "execution_count": 15,
   "metadata": {
    "scrolled": true
   },
   "outputs": [
    {
     "name": "stderr",
     "output_type": "stream",
     "text": [
      "C:\\Users\\shekh\\Anaconda3\\lib\\site-packages\\ipykernel_launcher.py:1: SettingWithCopyWarning: \n",
      "A value is trying to be set on a copy of a slice from a DataFrame.\n",
      "Try using .loc[row_indexer,col_indexer] = value instead\n",
      "\n",
      "See the caveats in the documentation: https://pandas.pydata.org/pandas-docs/stable/user_guide/indexing.html#returning-a-view-versus-a-copy\n",
      "  \"\"\"Entry point for launching an IPython kernel.\n"
     ]
    }
   ],
   "source": [
    "data['tags'] = data['overview'] + data['genres'] + data['keywords'] + data['cast'] + data['crew']"
   ]
  },
  {
   "cell_type": "code",
   "execution_count": 16,
   "metadata": {},
   "outputs": [
    {
     "name": "stderr",
     "output_type": "stream",
     "text": [
      "C:\\Users\\shekh\\Anaconda3\\lib\\site-packages\\pandas\\core\\generic.py:5303: SettingWithCopyWarning: \n",
      "A value is trying to be set on a copy of a slice from a DataFrame.\n",
      "Try using .loc[row_indexer,col_indexer] = value instead\n",
      "\n",
      "See the caveats in the documentation: https://pandas.pydata.org/pandas-docs/stable/user_guide/indexing.html#returning-a-view-versus-a-copy\n",
      "  self[name] = value\n"
     ]
    }
   ],
   "source": [
    "data.overview = data['overview'].apply(lambda x: \" \".join(x))\n",
    "data.genres = data['genres'].apply(lambda x: \" \".join(x))\n",
    "data.keywords = data['keywords'].apply(lambda x: \" \".join(x))\n",
    "data.cast = data['cast'].apply(lambda x: \" \".join(x))\n",
    "data.crew = data['crew'].apply(lambda x: \" \".join(x))"
   ]
  },
  {
   "cell_type": "code",
   "execution_count": 17,
   "metadata": {},
   "outputs": [
    {
     "data": {
      "text/html": [
       "<div>\n",
       "<style scoped>\n",
       "    .dataframe tbody tr th:only-of-type {\n",
       "        vertical-align: middle;\n",
       "    }\n",
       "\n",
       "    .dataframe tbody tr th {\n",
       "        vertical-align: top;\n",
       "    }\n",
       "\n",
       "    .dataframe thead th {\n",
       "        text-align: right;\n",
       "    }\n",
       "</style>\n",
       "<table border=\"1\" class=\"dataframe\">\n",
       "  <thead>\n",
       "    <tr style=\"text-align: right;\">\n",
       "      <th></th>\n",
       "      <th>id</th>\n",
       "      <th>title</th>\n",
       "      <th>overview</th>\n",
       "      <th>keywords</th>\n",
       "      <th>genres</th>\n",
       "      <th>cast</th>\n",
       "      <th>crew</th>\n",
       "      <th>tags</th>\n",
       "    </tr>\n",
       "  </thead>\n",
       "  <tbody>\n",
       "    <tr>\n",
       "      <th>1</th>\n",
       "      <td>278</td>\n",
       "      <td>The Shawshank Redemption</td>\n",
       "      <td>Framed in the 1940s for the double murder of h...</td>\n",
       "      <td>p r i s o n ,  c o r r u p t i o n ,  p o l i ...</td>\n",
       "      <td>D r a m a ,  C r i m e</td>\n",
       "      <td>T i m  R o b b i n s ,  M o r g a n  F r e e m...</td>\n",
       "      <td>F r a n k  D a r a b o n t</td>\n",
       "      <td>[Framed, in, the, 1940s, for, the, double, mur...</td>\n",
       "    </tr>\n",
       "    <tr>\n",
       "      <th>2</th>\n",
       "      <td>238</td>\n",
       "      <td>The Godfather</td>\n",
       "      <td>Spanning the years 1945 to 1955, a chronicle o...</td>\n",
       "      <td>i t a l y ,  l o s s  o f  l o v e d  o n e , ...</td>\n",
       "      <td>D r a m a ,  C r i m e</td>\n",
       "      <td>M a r l o n  B r a n d o ,  A l  P a c i n o ,...</td>\n",
       "      <td>F r a n c i s  F o r d  C o p p o l a</td>\n",
       "      <td>[Spanning, the, years, 1945, to, 1955,, a, chr...</td>\n",
       "    </tr>\n",
       "    <tr>\n",
       "      <th>3</th>\n",
       "      <td>724089</td>\n",
       "      <td>Gabriel's Inferno Part II</td>\n",
       "      <td>Professor Gabriel Emerson finally learns the t...</td>\n",
       "      <td>b a s e d  o n  n o v e l  o r  b o o k</td>\n",
       "      <td>R o m a n c e</td>\n",
       "      <td>M e l a n i e  Z a n e t t i ,  G i u l i o  B...</td>\n",
       "      <td>T o s c a  M u s k</td>\n",
       "      <td>[Professor, Gabriel, Emerson, finally, learns,...</td>\n",
       "    </tr>\n",
       "    <tr>\n",
       "      <th>4</th>\n",
       "      <td>424</td>\n",
       "      <td>Schindler's List</td>\n",
       "      <td>The true story of how businessman Oskar Schind...</td>\n",
       "      <td>b a s e d  o n  n o v e l  o r  b o o k ,  f a...</td>\n",
       "      <td>D r a m a ,  H i s t o r y ,  W a r</td>\n",
       "      <td>L i a m  N e e s o n ,  B e n  K i n g s l e y...</td>\n",
       "      <td>S t e v e n  S p i e l b e r g</td>\n",
       "      <td>[The, true, story, of, how, businessman, Oskar...</td>\n",
       "    </tr>\n",
       "    <tr>\n",
       "      <th>6</th>\n",
       "      <td>240</td>\n",
       "      <td>The Godfather: Part II</td>\n",
       "      <td>In the continuing saga of the Corleone crime f...</td>\n",
       "      <td>i t a l y ,  i t a l i a n  a m e r i c a n , ...</td>\n",
       "      <td>D r a m a ,  C r i m e</td>\n",
       "      <td>A l  P a c i n o ,  R o b e r t  D u v a l l ,...</td>\n",
       "      <td>F r a n c i s  F o r d  C o p p o l a</td>\n",
       "      <td>[In, the, continuing, saga, of, the, Corleone,...</td>\n",
       "    </tr>\n",
       "  </tbody>\n",
       "</table>\n",
       "</div>"
      ],
      "text/plain": [
       "       id                      title  \\\n",
       "1     278   The Shawshank Redemption   \n",
       "2     238              The Godfather   \n",
       "3  724089  Gabriel's Inferno Part II   \n",
       "4     424           Schindler's List   \n",
       "6     240     The Godfather: Part II   \n",
       "\n",
       "                                            overview  \\\n",
       "1  Framed in the 1940s for the double murder of h...   \n",
       "2  Spanning the years 1945 to 1955, a chronicle o...   \n",
       "3  Professor Gabriel Emerson finally learns the t...   \n",
       "4  The true story of how businessman Oskar Schind...   \n",
       "6  In the continuing saga of the Corleone crime f...   \n",
       "\n",
       "                                            keywords  \\\n",
       "1  p r i s o n ,  c o r r u p t i o n ,  p o l i ...   \n",
       "2  i t a l y ,  l o s s  o f  l o v e d  o n e , ...   \n",
       "3            b a s e d  o n  n o v e l  o r  b o o k   \n",
       "4  b a s e d  o n  n o v e l  o r  b o o k ,  f a...   \n",
       "6  i t a l y ,  i t a l i a n  a m e r i c a n , ...   \n",
       "\n",
       "                                genres  \\\n",
       "1               D r a m a ,  C r i m e   \n",
       "2               D r a m a ,  C r i m e   \n",
       "3                        R o m a n c e   \n",
       "4  D r a m a ,  H i s t o r y ,  W a r   \n",
       "6               D r a m a ,  C r i m e   \n",
       "\n",
       "                                                cast  \\\n",
       "1  T i m  R o b b i n s ,  M o r g a n  F r e e m...   \n",
       "2  M a r l o n  B r a n d o ,  A l  P a c i n o ,...   \n",
       "3  M e l a n i e  Z a n e t t i ,  G i u l i o  B...   \n",
       "4  L i a m  N e e s o n ,  B e n  K i n g s l e y...   \n",
       "6  A l  P a c i n o ,  R o b e r t  D u v a l l ,...   \n",
       "\n",
       "                                    crew  \\\n",
       "1             F r a n k  D a r a b o n t   \n",
       "2  F r a n c i s  F o r d  C o p p o l a   \n",
       "3                     T o s c a  M u s k   \n",
       "4         S t e v e n  S p i e l b e r g   \n",
       "6  F r a n c i s  F o r d  C o p p o l a   \n",
       "\n",
       "                                                tags  \n",
       "1  [Framed, in, the, 1940s, for, the, double, mur...  \n",
       "2  [Spanning, the, years, 1945, to, 1955,, a, chr...  \n",
       "3  [Professor, Gabriel, Emerson, finally, learns,...  \n",
       "4  [The, true, story, of, how, businessman, Oskar...  \n",
       "6  [In, the, continuing, saga, of, the, Corleone,...  "
      ]
     },
     "execution_count": 17,
     "metadata": {},
     "output_type": "execute_result"
    }
   ],
   "source": [
    "data.head()"
   ]
  },
  {
   "cell_type": "code",
   "execution_count": 18,
   "metadata": {},
   "outputs": [],
   "source": [
    "data = data[['id','title','tags']]"
   ]
  },
  {
   "cell_type": "code",
   "execution_count": 19,
   "metadata": {},
   "outputs": [
    {
     "data": {
      "text/html": [
       "<div>\n",
       "<style scoped>\n",
       "    .dataframe tbody tr th:only-of-type {\n",
       "        vertical-align: middle;\n",
       "    }\n",
       "\n",
       "    .dataframe tbody tr th {\n",
       "        vertical-align: top;\n",
       "    }\n",
       "\n",
       "    .dataframe thead th {\n",
       "        text-align: right;\n",
       "    }\n",
       "</style>\n",
       "<table border=\"1\" class=\"dataframe\">\n",
       "  <thead>\n",
       "    <tr style=\"text-align: right;\">\n",
       "      <th></th>\n",
       "      <th>id</th>\n",
       "      <th>title</th>\n",
       "      <th>tags</th>\n",
       "    </tr>\n",
       "  </thead>\n",
       "  <tbody>\n",
       "    <tr>\n",
       "      <th>1</th>\n",
       "      <td>278</td>\n",
       "      <td>The Shawshank Redemption</td>\n",
       "      <td>[Framed, in, the, 1940s, for, the, double, mur...</td>\n",
       "    </tr>\n",
       "    <tr>\n",
       "      <th>2</th>\n",
       "      <td>238</td>\n",
       "      <td>The Godfather</td>\n",
       "      <td>[Spanning, the, years, 1945, to, 1955,, a, chr...</td>\n",
       "    </tr>\n",
       "    <tr>\n",
       "      <th>3</th>\n",
       "      <td>724089</td>\n",
       "      <td>Gabriel's Inferno Part II</td>\n",
       "      <td>[Professor, Gabriel, Emerson, finally, learns,...</td>\n",
       "    </tr>\n",
       "    <tr>\n",
       "      <th>4</th>\n",
       "      <td>424</td>\n",
       "      <td>Schindler's List</td>\n",
       "      <td>[The, true, story, of, how, businessman, Oskar...</td>\n",
       "    </tr>\n",
       "    <tr>\n",
       "      <th>6</th>\n",
       "      <td>240</td>\n",
       "      <td>The Godfather: Part II</td>\n",
       "      <td>[In, the, continuing, saga, of, the, Corleone,...</td>\n",
       "    </tr>\n",
       "  </tbody>\n",
       "</table>\n",
       "</div>"
      ],
      "text/plain": [
       "       id                      title  \\\n",
       "1     278   The Shawshank Redemption   \n",
       "2     238              The Godfather   \n",
       "3  724089  Gabriel's Inferno Part II   \n",
       "4     424           Schindler's List   \n",
       "6     240     The Godfather: Part II   \n",
       "\n",
       "                                                tags  \n",
       "1  [Framed, in, the, 1940s, for, the, double, mur...  \n",
       "2  [Spanning, the, years, 1945, to, 1955,, a, chr...  \n",
       "3  [Professor, Gabriel, Emerson, finally, learns,...  \n",
       "4  [The, true, story, of, how, businessman, Oskar...  \n",
       "6  [In, the, continuing, saga, of, the, Corleone,...  "
      ]
     },
     "execution_count": 19,
     "metadata": {},
     "output_type": "execute_result"
    }
   ],
   "source": [
    "data.head()"
   ]
  },
  {
   "cell_type": "code",
   "execution_count": 20,
   "metadata": {},
   "outputs": [],
   "source": [
    "data.tags = data['tags'].apply(lambda x: \" \".join(x))\n",
    "data['tags'] = data.tags.apply(lambda x: x.lower())"
   ]
  },
  {
   "cell_type": "code",
   "execution_count": 21,
   "metadata": {
    "scrolled": true
   },
   "outputs": [
    {
     "data": {
      "text/html": [
       "<div>\n",
       "<style scoped>\n",
       "    .dataframe tbody tr th:only-of-type {\n",
       "        vertical-align: middle;\n",
       "    }\n",
       "\n",
       "    .dataframe tbody tr th {\n",
       "        vertical-align: top;\n",
       "    }\n",
       "\n",
       "    .dataframe thead th {\n",
       "        text-align: right;\n",
       "    }\n",
       "</style>\n",
       "<table border=\"1\" class=\"dataframe\">\n",
       "  <thead>\n",
       "    <tr style=\"text-align: right;\">\n",
       "      <th></th>\n",
       "      <th>id</th>\n",
       "      <th>title</th>\n",
       "      <th>tags</th>\n",
       "    </tr>\n",
       "  </thead>\n",
       "  <tbody>\n",
       "    <tr>\n",
       "      <th>1</th>\n",
       "      <td>278</td>\n",
       "      <td>The Shawshank Redemption</td>\n",
       "      <td>framed in the 1940s for the double murder of h...</td>\n",
       "    </tr>\n",
       "    <tr>\n",
       "      <th>2</th>\n",
       "      <td>238</td>\n",
       "      <td>The Godfather</td>\n",
       "      <td>spanning the years 1945 to 1955, a chronicle o...</td>\n",
       "    </tr>\n",
       "    <tr>\n",
       "      <th>3</th>\n",
       "      <td>724089</td>\n",
       "      <td>Gabriel's Inferno Part II</td>\n",
       "      <td>professor gabriel emerson finally learns the t...</td>\n",
       "    </tr>\n",
       "    <tr>\n",
       "      <th>4</th>\n",
       "      <td>424</td>\n",
       "      <td>Schindler's List</td>\n",
       "      <td>the true story of how businessman oskar schind...</td>\n",
       "    </tr>\n",
       "    <tr>\n",
       "      <th>6</th>\n",
       "      <td>240</td>\n",
       "      <td>The Godfather: Part II</td>\n",
       "      <td>in the continuing saga of the corleone crime f...</td>\n",
       "    </tr>\n",
       "  </tbody>\n",
       "</table>\n",
       "</div>"
      ],
      "text/plain": [
       "       id                      title  \\\n",
       "1     278   The Shawshank Redemption   \n",
       "2     238              The Godfather   \n",
       "3  724089  Gabriel's Inferno Part II   \n",
       "4     424           Schindler's List   \n",
       "6     240     The Godfather: Part II   \n",
       "\n",
       "                                                tags  \n",
       "1  framed in the 1940s for the double murder of h...  \n",
       "2  spanning the years 1945 to 1955, a chronicle o...  \n",
       "3  professor gabriel emerson finally learns the t...  \n",
       "4  the true story of how businessman oskar schind...  \n",
       "6  in the continuing saga of the corleone crime f...  "
      ]
     },
     "execution_count": 21,
     "metadata": {},
     "output_type": "execute_result"
    }
   ],
   "source": [
    "data.head()"
   ]
  },
  {
   "cell_type": "code",
   "execution_count": 22,
   "metadata": {},
   "outputs": [],
   "source": [
    "from nltk.stem.porter import PorterStemmer\n",
    "ps = PorterStemmer()"
   ]
  },
  {
   "cell_type": "code",
   "execution_count": 23,
   "metadata": {},
   "outputs": [],
   "source": [
    "def stem(text):\n",
    "    l = [ ]\n",
    "    for i in text.split():\n",
    "        l.append(ps.stem(i))\n",
    "    return \" \".join(l)"
   ]
  },
  {
   "cell_type": "code",
   "execution_count": 24,
   "metadata": {},
   "outputs": [],
   "source": [
    "data.tags = data.tags.apply(stem)"
   ]
  },
  {
   "cell_type": "code",
   "execution_count": 25,
   "metadata": {},
   "outputs": [],
   "source": [
    "data.to_csv('movies_tags.csv')"
   ]
  },
  {
   "cell_type": "code",
   "execution_count": 26,
   "metadata": {},
   "outputs": [],
   "source": [
    "from sklearn.feature_extraction.text import CountVectorizer\n",
    "cv = CountVectorizer(max_features=5000,stop_words='english')"
   ]
  },
  {
   "cell_type": "code",
   "execution_count": 27,
   "metadata": {},
   "outputs": [],
   "source": [
    "vectors = cv.fit_transform(data.tags).toarray()"
   ]
  },
  {
   "cell_type": "code",
   "execution_count": 28,
   "metadata": {},
   "outputs": [
    {
     "data": {
      "text/plain": [
       "(8878, 5000)"
      ]
     },
     "execution_count": 28,
     "metadata": {},
     "output_type": "execute_result"
    }
   ],
   "source": [
    "vectors.shape"
   ]
  },
  {
   "cell_type": "code",
   "execution_count": 29,
   "metadata": {},
   "outputs": [],
   "source": [
    "from sklearn.metrics.pairwise import cosine_similarity"
   ]
  },
  {
   "cell_type": "code",
   "execution_count": 30,
   "metadata": {},
   "outputs": [],
   "source": [
    "similarity = cosine_similarity(vectors)"
   ]
  },
  {
   "cell_type": "code",
   "execution_count": 31,
   "metadata": {},
   "outputs": [
    {
     "data": {
      "text/plain": [
       "(8878, 8878)"
      ]
     },
     "execution_count": 31,
     "metadata": {},
     "output_type": "execute_result"
    }
   ],
   "source": [
    "similarity.shape"
   ]
  },
  {
   "cell_type": "code",
   "execution_count": 45,
   "metadata": {},
   "outputs": [],
   "source": [
    "movie_index = data[data['title']==\"The Shawshank Redemption\"].index[0]\n",
    "distances = similarity[movie_index]\n",
    "movies_list = sorted(list(enumerate(distances)),reverse=True,key=lambda x:x[1])[1:11]\n",
    "x = pd.DataFrame()\n",
    "for i in movies_list:\n",
    "    y = {'id':movies.iloc[i[0]].id,'movies':movies.iloc[i[0]].title}\n",
    "    x = x.append(y,ignore_index=True)"
   ]
  },
  {
   "cell_type": "code",
   "execution_count": 34,
   "metadata": {},
   "outputs": [
    {
     "data": {
      "text/plain": [
       "103663"
      ]
     },
     "execution_count": 34,
     "metadata": {},
     "output_type": "execute_result"
    }
   ],
   "source": [
    "movies.iloc[i[0]].id"
   ]
  },
  {
   "cell_type": "code",
   "execution_count": 48,
   "metadata": {},
   "outputs": [
    {
     "data": {
      "text/plain": [
       "13393.0"
      ]
     },
     "execution_count": 48,
     "metadata": {},
     "output_type": "execute_result"
    }
   ],
   "source": [
    "x['id'][1]"
   ]
  },
  {
   "cell_type": "code",
   "execution_count": null,
   "metadata": {},
   "outputs": [],
   "source": []
  },
  {
   "cell_type": "code",
   "execution_count": null,
   "metadata": {},
   "outputs": [],
   "source": []
  },
  {
   "cell_type": "code",
   "execution_count": 27,
   "metadata": {},
   "outputs": [],
   "source": [
    "movies.genres = movies[\"genres\"].apply(lambda x: x.replace('[',''))\n",
    "movies.genres = movies[\"genres\"].apply(lambda x: x.replace(']',''))\n",
    "movies.genres = movies[\"genres\"].apply(lambda x: x.replace(\"'\",''))"
   ]
  },
  {
   "cell_type": "code",
   "execution_count": 28,
   "metadata": {},
   "outputs": [],
   "source": [
    "movies.cast = movies[\"cast\"].apply(lambda x: x.replace('[',''))\n",
    "movies.cast = movies[\"cast\"].apply(lambda x: x.replace(']',''))\n",
    "movies.cast = movies[\"cast\"].apply(lambda x: x.replace(\"'\",''))"
   ]
  },
  {
   "cell_type": "code",
   "execution_count": 29,
   "metadata": {},
   "outputs": [],
   "source": [
    "movies.crew = movies[\"crew\"].apply(lambda x: x.replace('[',''))\n",
    "movies.crew = movies[\"crew\"].apply(lambda x: x.replace(']',''))\n",
    "movies.crew = movies[\"crew\"].apply(lambda x: x.replace(\"'\",''))"
   ]
  },
  {
   "cell_type": "code",
   "execution_count": 30,
   "metadata": {},
   "outputs": [],
   "source": [
    "movies.keywords = movies[\"keywords\"].apply(lambda x: x.replace('[',''))\n",
    "movies.keywords = movies[\"keywords\"].apply(lambda x: x.replace(']',''))\n",
    "movies.keywords = movies[\"keywords\"].apply(lambda x: x.replace(\"'\",''))"
   ]
  },
  {
   "cell_type": "code",
   "execution_count": 31,
   "metadata": {},
   "outputs": [],
   "source": [
    "movies.genres=movies['genres'].replace({\"'\": ''}, regex=True)"
   ]
  },
  {
   "cell_type": "markdown",
   "metadata": {},
   "source": [
    "# Postor sorter"
   ]
  },
  {
   "cell_type": "code",
   "execution_count": 73,
   "metadata": {},
   "outputs": [],
   "source": [
    "poster_data = pd.read_csv('poster.csv')"
   ]
  },
  {
   "cell_type": "code",
   "execution_count": 14,
   "metadata": {},
   "outputs": [],
   "source": [
    "poster_data[\"cast\"] = poster_data['cast_poster']"
   ]
  },
  {
   "cell_type": "code",
   "execution_count": 15,
   "metadata": {},
   "outputs": [],
   "source": [
    "poster_data[\"crew\"] = poster_data['crew_poster']"
   ]
  },
  {
   "cell_type": "code",
   "execution_count": 9,
   "metadata": {},
   "outputs": [],
   "source": [
    "poster_data.drop(columns=['cast','crew'],inplace=True)"
   ]
  },
  {
   "cell_type": "code",
   "execution_count": 21,
   "metadata": {},
   "outputs": [],
   "source": [
    "poster_data.cast = poster_data[\"cast\"].apply(lambda x: x.replace('[',''))\n",
    "poster_data.cast = poster_data[\"cast\"].apply(lambda x: x.replace(']',''))\n",
    "poster_data.cast = poster_data[\"cast\"].apply(lambda x: x.replace(\"'\",''))\n",
    "poster_data.cast = poster_data[\"cast\"].apply(lambda x: x.replace(\" \",''))"
   ]
  },
  {
   "cell_type": "code",
   "execution_count": 11,
   "metadata": {},
   "outputs": [],
   "source": [
    "poster_data.crew_poster = poster_data[\"crew_poster\"].apply(lambda x: x.replace('[',''))\n",
    "poster_data.crew_poster = poster_data[\"crew_poster\"].apply(lambda x: x.replace(']',''))\n",
    "poster_data.crew_poster = poster_data[\"crew_poster\"].apply(lambda x: x.replace(\"'\",''))"
   ]
  },
  {
   "cell_type": "code",
   "execution_count": 16,
   "metadata": {},
   "outputs": [
    {
     "data": {
      "text/html": [
       "<div>\n",
       "<style scoped>\n",
       "    .dataframe tbody tr th:only-of-type {\n",
       "        vertical-align: middle;\n",
       "    }\n",
       "\n",
       "    .dataframe tbody tr th {\n",
       "        vertical-align: top;\n",
       "    }\n",
       "\n",
       "    .dataframe thead th {\n",
       "        text-align: right;\n",
       "    }\n",
       "</style>\n",
       "<table border=\"1\" class=\"dataframe\">\n",
       "  <thead>\n",
       "    <tr style=\"text-align: right;\">\n",
       "      <th></th>\n",
       "      <th>id</th>\n",
       "      <th>cast_poster</th>\n",
       "      <th>crew_poster</th>\n",
       "      <th>cast</th>\n",
       "      <th>crew</th>\n",
       "    </tr>\n",
       "  </thead>\n",
       "  <tbody>\n",
       "    <tr>\n",
       "      <th>0</th>\n",
       "      <td>19404.0</td>\n",
       "      <td>/3uP0HPmCa0VTmyzTfa3E4WI9qgK.jpg, /cwum24EsxNw...</td>\n",
       "      <td>None</td>\n",
       "      <td>/3uP0HPmCa0VTmyzTfa3E4WI9qgK.jpg, /cwum24EsxNw...</td>\n",
       "      <td>None</td>\n",
       "    </tr>\n",
       "    <tr>\n",
       "      <th>1</th>\n",
       "      <td>278.0</td>\n",
       "      <td>/hsCu1JUzQQ4pl7uFxAVFLOs9yHh.jpg, /oIciQWr8VwK...</td>\n",
       "      <td>/nvOqAQhKtXdHtczgqanoCfltsxJ.jpg</td>\n",
       "      <td>/hsCu1JUzQQ4pl7uFxAVFLOs9yHh.jpg, /oIciQWr8VwK...</td>\n",
       "      <td>/nvOqAQhKtXdHtczgqanoCfltsxJ.jpg</td>\n",
       "    </tr>\n",
       "    <tr>\n",
       "      <th>2</th>\n",
       "      <td>238.0</td>\n",
       "      <td>/fuTEPMsBtV1zE98ujPONbKiYDc2.jpg, /fMDFeVf0pjo...</td>\n",
       "      <td>/mGKkVp3l9cipPt10AqoQnwaPrfI.jpg</td>\n",
       "      <td>/fuTEPMsBtV1zE98ujPONbKiYDc2.jpg, /fMDFeVf0pjo...</td>\n",
       "      <td>/mGKkVp3l9cipPt10AqoQnwaPrfI.jpg</td>\n",
       "    </tr>\n",
       "    <tr>\n",
       "      <th>3</th>\n",
       "      <td>724089.0</td>\n",
       "      <td>/lbUQ7ilvBtWMU23reKsHg3jRmsf.jpg, /ktPKniWGVkm...</td>\n",
       "      <td>/usR5NspRlWgXKUe9qVsCtTCpe4l.jpg</td>\n",
       "      <td>/lbUQ7ilvBtWMU23reKsHg3jRmsf.jpg, /ktPKniWGVkm...</td>\n",
       "      <td>/usR5NspRlWgXKUe9qVsCtTCpe4l.jpg</td>\n",
       "    </tr>\n",
       "    <tr>\n",
       "      <th>4</th>\n",
       "      <td>424.0</td>\n",
       "      <td>/bboldwqSC6tdw2iL6631c98l2Mn.jpg, /vQtBqpF2HDd...</td>\n",
       "      <td>/tZxcg19YQ3e8fJ0pOs7hjlnmmr6.jpg</td>\n",
       "      <td>/bboldwqSC6tdw2iL6631c98l2Mn.jpg, /vQtBqpF2HDd...</td>\n",
       "      <td>/tZxcg19YQ3e8fJ0pOs7hjlnmmr6.jpg</td>\n",
       "    </tr>\n",
       "  </tbody>\n",
       "</table>\n",
       "</div>"
      ],
      "text/plain": [
       "         id                                        cast_poster  \\\n",
       "0   19404.0  /3uP0HPmCa0VTmyzTfa3E4WI9qgK.jpg, /cwum24EsxNw...   \n",
       "1     278.0  /hsCu1JUzQQ4pl7uFxAVFLOs9yHh.jpg, /oIciQWr8VwK...   \n",
       "2     238.0  /fuTEPMsBtV1zE98ujPONbKiYDc2.jpg, /fMDFeVf0pjo...   \n",
       "3  724089.0  /lbUQ7ilvBtWMU23reKsHg3jRmsf.jpg, /ktPKniWGVkm...   \n",
       "4     424.0  /bboldwqSC6tdw2iL6631c98l2Mn.jpg, /vQtBqpF2HDd...   \n",
       "\n",
       "                        crew_poster  \\\n",
       "0                              None   \n",
       "1  /nvOqAQhKtXdHtczgqanoCfltsxJ.jpg   \n",
       "2  /mGKkVp3l9cipPt10AqoQnwaPrfI.jpg   \n",
       "3  /usR5NspRlWgXKUe9qVsCtTCpe4l.jpg   \n",
       "4  /tZxcg19YQ3e8fJ0pOs7hjlnmmr6.jpg   \n",
       "\n",
       "                                                cast  \\\n",
       "0  /3uP0HPmCa0VTmyzTfa3E4WI9qgK.jpg, /cwum24EsxNw...   \n",
       "1  /hsCu1JUzQQ4pl7uFxAVFLOs9yHh.jpg, /oIciQWr8VwK...   \n",
       "2  /fuTEPMsBtV1zE98ujPONbKiYDc2.jpg, /fMDFeVf0pjo...   \n",
       "3  /lbUQ7ilvBtWMU23reKsHg3jRmsf.jpg, /ktPKniWGVkm...   \n",
       "4  /bboldwqSC6tdw2iL6631c98l2Mn.jpg, /vQtBqpF2HDd...   \n",
       "\n",
       "                               crew  \n",
       "0                              None  \n",
       "1  /nvOqAQhKtXdHtczgqanoCfltsxJ.jpg  \n",
       "2  /mGKkVp3l9cipPt10AqoQnwaPrfI.jpg  \n",
       "3  /usR5NspRlWgXKUe9qVsCtTCpe4l.jpg  \n",
       "4  /tZxcg19YQ3e8fJ0pOs7hjlnmmr6.jpg  "
      ]
     },
     "execution_count": 16,
     "metadata": {},
     "output_type": "execute_result"
    }
   ],
   "source": [
    "poster_data.head()"
   ]
  },
  {
   "cell_type": "code",
   "execution_count": 39,
   "metadata": {},
   "outputs": [],
   "source": [
    "movies = movies.merge(poster_data,on='id')"
   ]
  },
  {
   "cell_type": "code",
   "execution_count": 40,
   "metadata": {},
   "outputs": [
    {
     "data": {
      "text/html": [
       "<div>\n",
       "<style scoped>\n",
       "    .dataframe tbody tr th:only-of-type {\n",
       "        vertical-align: middle;\n",
       "    }\n",
       "\n",
       "    .dataframe tbody tr th {\n",
       "        vertical-align: top;\n",
       "    }\n",
       "\n",
       "    .dataframe thead th {\n",
       "        text-align: right;\n",
       "    }\n",
       "</style>\n",
       "<table border=\"1\" class=\"dataframe\">\n",
       "  <thead>\n",
       "    <tr style=\"text-align: right;\">\n",
       "      <th></th>\n",
       "      <th>Unnamed: 0</th>\n",
       "      <th>id</th>\n",
       "      <th>title</th>\n",
       "      <th>overview</th>\n",
       "      <th>popularity</th>\n",
       "      <th>vote_average</th>\n",
       "      <th>vote_count</th>\n",
       "      <th>release_date</th>\n",
       "      <th>keywords</th>\n",
       "      <th>genres</th>\n",
       "      <th>cast</th>\n",
       "      <th>crew</th>\n",
       "      <th>cast_poster</th>\n",
       "      <th>crew_poster</th>\n",
       "    </tr>\n",
       "  </thead>\n",
       "  <tbody>\n",
       "    <tr>\n",
       "      <th>0</th>\n",
       "      <td>0</td>\n",
       "      <td>19404</td>\n",
       "      <td>Dilwale Dulhania Le Jayenge</td>\n",
       "      <td>Raj is a rich, carefree, happy-go-lucky second...</td>\n",
       "      <td>31.222</td>\n",
       "      <td>8.7</td>\n",
       "      <td>3323</td>\n",
       "      <td>1995-10-20</td>\n",
       "      <td></td>\n",
       "      <td>Comedy, Drama, Romance</td>\n",
       "      <td>Shah Rukh Khan, Kajol, Amrish Puri, Anupam Khe...</td>\n",
       "      <td>Aditya Chopra</td>\n",
       "      <td>/3uP0HPmCa0VTmyzTfa3E4WI9qgK.jpg, /cwum24EsxNw...</td>\n",
       "      <td>None</td>\n",
       "    </tr>\n",
       "    <tr>\n",
       "      <th>1</th>\n",
       "      <td>1</td>\n",
       "      <td>278</td>\n",
       "      <td>The Shawshank Redemption</td>\n",
       "      <td>Framed in the 1940s for the double murder of h...</td>\n",
       "      <td>76.654</td>\n",
       "      <td>8.7</td>\n",
       "      <td>20434</td>\n",
       "      <td>1994-09-23</td>\n",
       "      <td>prison, corruption, police brutality, prison c...</td>\n",
       "      <td>Drama, Crime</td>\n",
       "      <td>Tim Robbins, Morgan Freeman, Bob Gunton, Willi...</td>\n",
       "      <td>Frank Darabont</td>\n",
       "      <td>/hsCu1JUzQQ4pl7uFxAVFLOs9yHh.jpg, /oIciQWr8VwK...</td>\n",
       "      <td>/nvOqAQhKtXdHtczgqanoCfltsxJ.jpg</td>\n",
       "    </tr>\n",
       "    <tr>\n",
       "      <th>2</th>\n",
       "      <td>2</td>\n",
       "      <td>238</td>\n",
       "      <td>The Godfather</td>\n",
       "      <td>Spanning the years 1945 to 1955, a chronicle o...</td>\n",
       "      <td>75.306</td>\n",
       "      <td>8.7</td>\n",
       "      <td>15270</td>\n",
       "      <td>1972-03-14</td>\n",
       "      <td>italy, loss of loved one, love at first sight,...</td>\n",
       "      <td>Drama, Crime</td>\n",
       "      <td>Marlon Brando, Al Pacino, James Caan, Robert D...</td>\n",
       "      <td>Francis Ford Coppola</td>\n",
       "      <td>/fuTEPMsBtV1zE98ujPONbKiYDc2.jpg, /fMDFeVf0pjo...</td>\n",
       "      <td>/mGKkVp3l9cipPt10AqoQnwaPrfI.jpg</td>\n",
       "    </tr>\n",
       "    <tr>\n",
       "      <th>3</th>\n",
       "      <td>3</td>\n",
       "      <td>724089</td>\n",
       "      <td>Gabriel's Inferno Part II</td>\n",
       "      <td>Professor Gabriel Emerson finally learns the t...</td>\n",
       "      <td>21.501</td>\n",
       "      <td>8.6</td>\n",
       "      <td>1369</td>\n",
       "      <td>2020-07-31</td>\n",
       "      <td>based on novel or book</td>\n",
       "      <td>Romance</td>\n",
       "      <td>Melanie Zanetti, Giulio Berruti, James Andrew ...</td>\n",
       "      <td>Tosca Musk</td>\n",
       "      <td>/lbUQ7ilvBtWMU23reKsHg3jRmsf.jpg, /ktPKniWGVkm...</td>\n",
       "      <td>/usR5NspRlWgXKUe9qVsCtTCpe4l.jpg</td>\n",
       "    </tr>\n",
       "    <tr>\n",
       "      <th>4</th>\n",
       "      <td>4</td>\n",
       "      <td>424</td>\n",
       "      <td>Schindler's List</td>\n",
       "      <td>The true story of how businessman Oskar Schind...</td>\n",
       "      <td>40.585</td>\n",
       "      <td>8.6</td>\n",
       "      <td>12202</td>\n",
       "      <td>1993-11-30</td>\n",
       "      <td>based on novel or book, factory, concentration...</td>\n",
       "      <td>Drama, History, War</td>\n",
       "      <td>Liam Neeson, Ben Kingsley, Ralph Fiennes, Caro...</td>\n",
       "      <td>Steven Spielberg</td>\n",
       "      <td>/bboldwqSC6tdw2iL6631c98l2Mn.jpg, /vQtBqpF2HDd...</td>\n",
       "      <td>/tZxcg19YQ3e8fJ0pOs7hjlnmmr6.jpg</td>\n",
       "    </tr>\n",
       "  </tbody>\n",
       "</table>\n",
       "</div>"
      ],
      "text/plain": [
       "   Unnamed: 0      id                        title  \\\n",
       "0           0   19404  Dilwale Dulhania Le Jayenge   \n",
       "1           1     278     The Shawshank Redemption   \n",
       "2           2     238                The Godfather   \n",
       "3           3  724089    Gabriel's Inferno Part II   \n",
       "4           4     424             Schindler's List   \n",
       "\n",
       "                                            overview  popularity  \\\n",
       "0  Raj is a rich, carefree, happy-go-lucky second...      31.222   \n",
       "1  Framed in the 1940s for the double murder of h...      76.654   \n",
       "2  Spanning the years 1945 to 1955, a chronicle o...      75.306   \n",
       "3  Professor Gabriel Emerson finally learns the t...      21.501   \n",
       "4  The true story of how businessman Oskar Schind...      40.585   \n",
       "\n",
       "   vote_average  vote_count release_date  \\\n",
       "0           8.7        3323   1995-10-20   \n",
       "1           8.7       20434   1994-09-23   \n",
       "2           8.7       15270   1972-03-14   \n",
       "3           8.6        1369   2020-07-31   \n",
       "4           8.6       12202   1993-11-30   \n",
       "\n",
       "                                            keywords                  genres  \\\n",
       "0                                                     Comedy, Drama, Romance   \n",
       "1  prison, corruption, police brutality, prison c...            Drama, Crime   \n",
       "2  italy, loss of loved one, love at first sight,...            Drama, Crime   \n",
       "3                             based on novel or book                 Romance   \n",
       "4  based on novel or book, factory, concentration...     Drama, History, War   \n",
       "\n",
       "                                                cast                  crew  \\\n",
       "0  Shah Rukh Khan, Kajol, Amrish Puri, Anupam Khe...         Aditya Chopra   \n",
       "1  Tim Robbins, Morgan Freeman, Bob Gunton, Willi...        Frank Darabont   \n",
       "2  Marlon Brando, Al Pacino, James Caan, Robert D...  Francis Ford Coppola   \n",
       "3  Melanie Zanetti, Giulio Berruti, James Andrew ...            Tosca Musk   \n",
       "4  Liam Neeson, Ben Kingsley, Ralph Fiennes, Caro...      Steven Spielberg   \n",
       "\n",
       "                                         cast_poster  \\\n",
       "0  /3uP0HPmCa0VTmyzTfa3E4WI9qgK.jpg, /cwum24EsxNw...   \n",
       "1  /hsCu1JUzQQ4pl7uFxAVFLOs9yHh.jpg, /oIciQWr8VwK...   \n",
       "2  /fuTEPMsBtV1zE98ujPONbKiYDc2.jpg, /fMDFeVf0pjo...   \n",
       "3  /lbUQ7ilvBtWMU23reKsHg3jRmsf.jpg, /ktPKniWGVkm...   \n",
       "4  /bboldwqSC6tdw2iL6631c98l2Mn.jpg, /vQtBqpF2HDd...   \n",
       "\n",
       "                        crew_poster  \n",
       "0                              None  \n",
       "1  /nvOqAQhKtXdHtczgqanoCfltsxJ.jpg  \n",
       "2  /mGKkVp3l9cipPt10AqoQnwaPrfI.jpg  \n",
       "3  /usR5NspRlWgXKUe9qVsCtTCpe4l.jpg  \n",
       "4  /tZxcg19YQ3e8fJ0pOs7hjlnmmr6.jpg  "
      ]
     },
     "execution_count": 40,
     "metadata": {},
     "output_type": "execute_result"
    }
   ],
   "source": [
    "movies.head()"
   ]
  },
  {
   "cell_type": "code",
   "execution_count": 41,
   "metadata": {},
   "outputs": [],
   "source": [
    "movies.to_csv(\"movies_data.csv\")"
   ]
  },
  {
   "cell_type": "code",
   "execution_count": 3,
   "metadata": {},
   "outputs": [],
   "source": [
    "x = pd.read_csv('poster.csv')"
   ]
  },
  {
   "cell_type": "code",
   "execution_count": 44,
   "metadata": {},
   "outputs": [],
   "source": [
    "poster_data.to_csv('poster.csv')"
   ]
  },
  {
   "cell_type": "code",
   "execution_count": 17,
   "metadata": {},
   "outputs": [],
   "source": [
    "poster_data.drop(columns=['cast_poster','crew_poster'],inplace=True)"
   ]
  },
  {
   "cell_type": "code",
   "execution_count": 22,
   "metadata": {},
   "outputs": [
    {
     "data": {
      "text/html": [
       "<div>\n",
       "<style scoped>\n",
       "    .dataframe tbody tr th:only-of-type {\n",
       "        vertical-align: middle;\n",
       "    }\n",
       "\n",
       "    .dataframe tbody tr th {\n",
       "        vertical-align: top;\n",
       "    }\n",
       "\n",
       "    .dataframe thead th {\n",
       "        text-align: right;\n",
       "    }\n",
       "</style>\n",
       "<table border=\"1\" class=\"dataframe\">\n",
       "  <thead>\n",
       "    <tr style=\"text-align: right;\">\n",
       "      <th></th>\n",
       "      <th>id</th>\n",
       "      <th>cast</th>\n",
       "      <th>crew</th>\n",
       "    </tr>\n",
       "  </thead>\n",
       "  <tbody>\n",
       "    <tr>\n",
       "      <th>0</th>\n",
       "      <td>19404.0</td>\n",
       "      <td>/3uP0HPmCa0VTmyzTfa3E4WI9qgK.jpg,/cwum24EsxNwp...</td>\n",
       "      <td>None</td>\n",
       "    </tr>\n",
       "    <tr>\n",
       "      <th>1</th>\n",
       "      <td>278.0</td>\n",
       "      <td>/hsCu1JUzQQ4pl7uFxAVFLOs9yHh.jpg,/oIciQWr8VwKo...</td>\n",
       "      <td>/nvOqAQhKtXdHtczgqanoCfltsxJ.jpg</td>\n",
       "    </tr>\n",
       "    <tr>\n",
       "      <th>2</th>\n",
       "      <td>238.0</td>\n",
       "      <td>/fuTEPMsBtV1zE98ujPONbKiYDc2.jpg,/fMDFeVf0pjop...</td>\n",
       "      <td>/mGKkVp3l9cipPt10AqoQnwaPrfI.jpg</td>\n",
       "    </tr>\n",
       "    <tr>\n",
       "      <th>3</th>\n",
       "      <td>724089.0</td>\n",
       "      <td>/lbUQ7ilvBtWMU23reKsHg3jRmsf.jpg,/ktPKniWGVkm6...</td>\n",
       "      <td>/usR5NspRlWgXKUe9qVsCtTCpe4l.jpg</td>\n",
       "    </tr>\n",
       "    <tr>\n",
       "      <th>4</th>\n",
       "      <td>424.0</td>\n",
       "      <td>/bboldwqSC6tdw2iL6631c98l2Mn.jpg,/vQtBqpF2HDdz...</td>\n",
       "      <td>/tZxcg19YQ3e8fJ0pOs7hjlnmmr6.jpg</td>\n",
       "    </tr>\n",
       "  </tbody>\n",
       "</table>\n",
       "</div>"
      ],
      "text/plain": [
       "         id                                               cast  \\\n",
       "0   19404.0  /3uP0HPmCa0VTmyzTfa3E4WI9qgK.jpg,/cwum24EsxNwp...   \n",
       "1     278.0  /hsCu1JUzQQ4pl7uFxAVFLOs9yHh.jpg,/oIciQWr8VwKo...   \n",
       "2     238.0  /fuTEPMsBtV1zE98ujPONbKiYDc2.jpg,/fMDFeVf0pjop...   \n",
       "3  724089.0  /lbUQ7ilvBtWMU23reKsHg3jRmsf.jpg,/ktPKniWGVkm6...   \n",
       "4     424.0  /bboldwqSC6tdw2iL6631c98l2Mn.jpg,/vQtBqpF2HDdz...   \n",
       "\n",
       "                               crew  \n",
       "0                              None  \n",
       "1  /nvOqAQhKtXdHtczgqanoCfltsxJ.jpg  \n",
       "2  /mGKkVp3l9cipPt10AqoQnwaPrfI.jpg  \n",
       "3  /usR5NspRlWgXKUe9qVsCtTCpe4l.jpg  \n",
       "4  /tZxcg19YQ3e8fJ0pOs7hjlnmmr6.jpg  "
      ]
     },
     "execution_count": 22,
     "metadata": {},
     "output_type": "execute_result"
    }
   ],
   "source": [
    "poster_data.head()"
   ]
  },
  {
   "cell_type": "code",
   "execution_count": 24,
   "metadata": {},
   "outputs": [],
   "source": [
    "id_list = poster_data.id"
   ]
  },
  {
   "cell_type": "code",
   "execution_count": 26,
   "metadata": {},
   "outputs": [],
   "source": [
    "x = pd.DataFrame()"
   ]
  },
  {
   "cell_type": "code",
   "execution_count": 40,
   "metadata": {},
   "outputs": [],
   "source": [
    "for i in id_list:\n",
    "    response = requests.get(\"https://api.themoviedb.org/3/movie/{}?api_key=b70714a85f6c0096ed303107f5ffdf6b&language=en-US\".format(i))\n",
    "    temp_df = (response.json()['poster_path'])\n",
    "    dict = {'id':i,'poster':temp_df}\n",
    "    x = x.append(dict,ignore_index=True)"
   ]
  },
  {
   "cell_type": "code",
   "execution_count": 42,
   "metadata": {},
   "outputs": [],
   "source": [
    "poster_data = poster_data.merge(x,on='id')"
   ]
  },
  {
   "cell_type": "code",
   "execution_count": 28,
   "metadata": {},
   "outputs": [],
   "source": [
    "import requests"
   ]
  },
  {
   "cell_type": "code",
   "execution_count": 43,
   "metadata": {},
   "outputs": [
    {
     "data": {
      "text/html": [
       "<div>\n",
       "<style scoped>\n",
       "    .dataframe tbody tr th:only-of-type {\n",
       "        vertical-align: middle;\n",
       "    }\n",
       "\n",
       "    .dataframe tbody tr th {\n",
       "        vertical-align: top;\n",
       "    }\n",
       "\n",
       "    .dataframe thead th {\n",
       "        text-align: right;\n",
       "    }\n",
       "</style>\n",
       "<table border=\"1\" class=\"dataframe\">\n",
       "  <thead>\n",
       "    <tr style=\"text-align: right;\">\n",
       "      <th></th>\n",
       "      <th>id</th>\n",
       "      <th>cast</th>\n",
       "      <th>crew</th>\n",
       "      <th>poster</th>\n",
       "    </tr>\n",
       "  </thead>\n",
       "  <tbody>\n",
       "    <tr>\n",
       "      <th>0</th>\n",
       "      <td>19404.0</td>\n",
       "      <td>/3uP0HPmCa0VTmyzTfa3E4WI9qgK.jpg,/cwum24EsxNwp...</td>\n",
       "      <td>None</td>\n",
       "      <td>/2CAL2433ZeIihfX1Hb2139CX0pW.jpg</td>\n",
       "    </tr>\n",
       "    <tr>\n",
       "      <th>1</th>\n",
       "      <td>278.0</td>\n",
       "      <td>/hsCu1JUzQQ4pl7uFxAVFLOs9yHh.jpg,/oIciQWr8VwKo...</td>\n",
       "      <td>/nvOqAQhKtXdHtczgqanoCfltsxJ.jpg</td>\n",
       "      <td>/q6y0Go1tsGEsmtFryDOJo3dEmqu.jpg</td>\n",
       "    </tr>\n",
       "    <tr>\n",
       "      <th>2</th>\n",
       "      <td>238.0</td>\n",
       "      <td>/fuTEPMsBtV1zE98ujPONbKiYDc2.jpg,/fMDFeVf0pjop...</td>\n",
       "      <td>/mGKkVp3l9cipPt10AqoQnwaPrfI.jpg</td>\n",
       "      <td>/eEslKSwcqmiNS6va24Pbxf2UKmJ.jpg</td>\n",
       "    </tr>\n",
       "    <tr>\n",
       "      <th>3</th>\n",
       "      <td>724089.0</td>\n",
       "      <td>/lbUQ7ilvBtWMU23reKsHg3jRmsf.jpg,/ktPKniWGVkm6...</td>\n",
       "      <td>/usR5NspRlWgXKUe9qVsCtTCpe4l.jpg</td>\n",
       "      <td>/x5o8cLZfEXMoZczTYWLrUo1P7UJ.jpg</td>\n",
       "    </tr>\n",
       "    <tr>\n",
       "      <th>4</th>\n",
       "      <td>424.0</td>\n",
       "      <td>/bboldwqSC6tdw2iL6631c98l2Mn.jpg,/vQtBqpF2HDdz...</td>\n",
       "      <td>/tZxcg19YQ3e8fJ0pOs7hjlnmmr6.jpg</td>\n",
       "      <td>/sF1U4EUQS8YHUYjNl3pMGNIQyr0.jpg</td>\n",
       "    </tr>\n",
       "    <tr>\n",
       "      <th>...</th>\n",
       "      <td>...</td>\n",
       "      <td>...</td>\n",
       "      <td>...</td>\n",
       "      <td>...</td>\n",
       "    </tr>\n",
       "    <tr>\n",
       "      <th>9475</th>\n",
       "      <td>21435.0</td>\n",
       "      <td>/eDAW4L3nNpx0sfhh5nMix4KdjfM.jpg,/p3cRVFvUPcsb...</td>\n",
       "      <td>/6ybiEcJLFbf2ctyxK8bqYa1cXYy.jpg</td>\n",
       "      <td>/sRB6qyf7q76XNsP5Zv24aCw5uK.jpg</td>\n",
       "    </tr>\n",
       "    <tr>\n",
       "      <th>9476</th>\n",
       "      <td>17711.0</td>\n",
       "      <td>/9VjektO3AyuHZ5O8v2pC9It5Wvp.jpg,/67pvqalQz6zC...</td>\n",
       "      <td>None</td>\n",
       "      <td>/xCFSsftt2rglC81I6QLWcZSTCBM.jpg</td>\n",
       "    </tr>\n",
       "    <tr>\n",
       "      <th>9477</th>\n",
       "      <td>17532.0</td>\n",
       "      <td>/3PVQPEc6nXNX2eoW2UbsfVikc7H.jpg,/ibYmq9qTMV3h...</td>\n",
       "      <td>/eLsLnRwAGDMBZ45axAcv0YLD4wh.jpg</td>\n",
       "      <td>/aRYrV4EloKRgv0lCqzGtXFt3dXn.jpg</td>\n",
       "    </tr>\n",
       "    <tr>\n",
       "      <th>9478</th>\n",
       "      <td>13908.0</td>\n",
       "      <td>/qlb0apjFhoQ9UwCcvzrLm1mTIx0.jpg,/wHaOTfxOEKOP...</td>\n",
       "      <td>None</td>\n",
       "      <td>/nuP4Ym7vFRj40doQZWwnrsbiCbX.jpg</td>\n",
       "    </tr>\n",
       "    <tr>\n",
       "      <th>9479</th>\n",
       "      <td>580.0</td>\n",
       "      <td>/6JKNdZopypnFnD9xSSlDs6YTHMC.jpg,/rfLT0dxqWcAs...</td>\n",
       "      <td>/dE6fzbXZX1ImRw8gOcuvMNa66g5.jpg</td>\n",
       "      <td>/kGiaOztahZV2x7bil7sbk7fb6ob.jpg</td>\n",
       "    </tr>\n",
       "  </tbody>\n",
       "</table>\n",
       "<p>9480 rows × 4 columns</p>\n",
       "</div>"
      ],
      "text/plain": [
       "            id                                               cast  \\\n",
       "0      19404.0  /3uP0HPmCa0VTmyzTfa3E4WI9qgK.jpg,/cwum24EsxNwp...   \n",
       "1        278.0  /hsCu1JUzQQ4pl7uFxAVFLOs9yHh.jpg,/oIciQWr8VwKo...   \n",
       "2        238.0  /fuTEPMsBtV1zE98ujPONbKiYDc2.jpg,/fMDFeVf0pjop...   \n",
       "3     724089.0  /lbUQ7ilvBtWMU23reKsHg3jRmsf.jpg,/ktPKniWGVkm6...   \n",
       "4        424.0  /bboldwqSC6tdw2iL6631c98l2Mn.jpg,/vQtBqpF2HDdz...   \n",
       "...        ...                                                ...   \n",
       "9475   21435.0  /eDAW4L3nNpx0sfhh5nMix4KdjfM.jpg,/p3cRVFvUPcsb...   \n",
       "9476   17711.0  /9VjektO3AyuHZ5O8v2pC9It5Wvp.jpg,/67pvqalQz6zC...   \n",
       "9477   17532.0  /3PVQPEc6nXNX2eoW2UbsfVikc7H.jpg,/ibYmq9qTMV3h...   \n",
       "9478   13908.0  /qlb0apjFhoQ9UwCcvzrLm1mTIx0.jpg,/wHaOTfxOEKOP...   \n",
       "9479     580.0  /6JKNdZopypnFnD9xSSlDs6YTHMC.jpg,/rfLT0dxqWcAs...   \n",
       "\n",
       "                                  crew                            poster  \n",
       "0                                 None  /2CAL2433ZeIihfX1Hb2139CX0pW.jpg  \n",
       "1     /nvOqAQhKtXdHtczgqanoCfltsxJ.jpg  /q6y0Go1tsGEsmtFryDOJo3dEmqu.jpg  \n",
       "2     /mGKkVp3l9cipPt10AqoQnwaPrfI.jpg  /eEslKSwcqmiNS6va24Pbxf2UKmJ.jpg  \n",
       "3     /usR5NspRlWgXKUe9qVsCtTCpe4l.jpg  /x5o8cLZfEXMoZczTYWLrUo1P7UJ.jpg  \n",
       "4     /tZxcg19YQ3e8fJ0pOs7hjlnmmr6.jpg  /sF1U4EUQS8YHUYjNl3pMGNIQyr0.jpg  \n",
       "...                                ...                               ...  \n",
       "9475  /6ybiEcJLFbf2ctyxK8bqYa1cXYy.jpg   /sRB6qyf7q76XNsP5Zv24aCw5uK.jpg  \n",
       "9476                              None  /xCFSsftt2rglC81I6QLWcZSTCBM.jpg  \n",
       "9477  /eLsLnRwAGDMBZ45axAcv0YLD4wh.jpg  /aRYrV4EloKRgv0lCqzGtXFt3dXn.jpg  \n",
       "9478                              None  /nuP4Ym7vFRj40doQZWwnrsbiCbX.jpg  \n",
       "9479  /dE6fzbXZX1ImRw8gOcuvMNa66g5.jpg  /kGiaOztahZV2x7bil7sbk7fb6ob.jpg  \n",
       "\n",
       "[9480 rows x 4 columns]"
      ]
     },
     "execution_count": 43,
     "metadata": {},
     "output_type": "execute_result"
    }
   ],
   "source": [
    "poster_data"
   ]
  },
  {
   "cell_type": "code",
   "execution_count": 50,
   "metadata": {},
   "outputs": [],
   "source": [
    "from joblib import load"
   ]
  },
  {
   "cell_type": "code",
   "execution_count": 53,
   "metadata": {},
   "outputs": [],
   "source": [
    "movies_data = pd.read_csv(\"movies_data.csv\")\n",
    "movies = pd.read_csv(\"movies_tags.csv\")"
   ]
  },
  {
   "cell_type": "code",
   "execution_count": 54,
   "metadata": {},
   "outputs": [],
   "source": [
    "def recommender(movie):\n",
    "    similarity = load('similarity.joblib')\n",
    "    movie_index = movies[movies['title']==movie].index[0]\n",
    "    distances = similarity[movie_index]\n",
    "    movies_list = sorted(list(enumerate(distances)),reverse=True,key=lambda x:x[1])[1:11]\n",
    "    x = pd.DataFrame()\n",
    "    for i in movies_list:\n",
    "        y = {'id':movies.iloc[i[0]].id,'movies':movies.iloc[i[0]].title}\n",
    "        x = x.append(y,ignore_index=True)\n",
    "    return x"
   ]
  },
  {
   "cell_type": "code",
   "execution_count": 106,
   "metadata": {},
   "outputs": [],
   "source": [
    "y = recommender(\"The Shawshank Redemption\")"
   ]
  },
  {
   "cell_type": "code",
   "execution_count": 107,
   "metadata": {},
   "outputs": [],
   "source": [
    "recommender_index=[]\n",
    "recommender_data = pd.DataFrame()\n",
    "for i in y.id:\n",
    "    recommender_index = poster_data[poster_data['id']==i].index[0]\n",
    "    recommender_data= recommender_data.append(poster_data.iloc[recommender_index],ignore_index=True)"
   ]
  },
  {
   "cell_type": "code",
   "execution_count": 108,
   "metadata": {},
   "outputs": [
    {
     "data": {
      "text/html": [
       "<div>\n",
       "<style scoped>\n",
       "    .dataframe tbody tr th:only-of-type {\n",
       "        vertical-align: middle;\n",
       "    }\n",
       "\n",
       "    .dataframe tbody tr th {\n",
       "        vertical-align: top;\n",
       "    }\n",
       "\n",
       "    .dataframe thead th {\n",
       "        text-align: right;\n",
       "    }\n",
       "</style>\n",
       "<table border=\"1\" class=\"dataframe\">\n",
       "  <thead>\n",
       "    <tr style=\"text-align: right;\">\n",
       "      <th></th>\n",
       "      <th>cast</th>\n",
       "      <th>crew</th>\n",
       "      <th>id</th>\n",
       "      <th>poster</th>\n",
       "    </tr>\n",
       "  </thead>\n",
       "  <tbody>\n",
       "    <tr>\n",
       "      <th>0</th>\n",
       "      <td>/uqqgAdPfi1TmG3tfKfhsf20fHE6.jpg,/mHsHV3SWodFL...</td>\n",
       "      <td>/dKlaXJk3NLcsC1CKMx6xmyW5BZD.jpg</td>\n",
       "      <td>519010.0</td>\n",
       "      <td>/ptlSYkLFUmNhwkskyTMOFPFUqSh.jpg</td>\n",
       "    </tr>\n",
       "    <tr>\n",
       "      <th>1</th>\n",
       "      <td>/wcPQgZLDibuej1RwNTy1R2U2ZJw.jpg,/5U35yScoao1h...</td>\n",
       "      <td>/wcPQgZLDibuej1RwNTy1R2U2ZJw.jpg</td>\n",
       "      <td>11337.0</td>\n",
       "      <td>/y1EHgpL2hMVRcr6tIOy7VGLxaPs.jpg</td>\n",
       "    </tr>\n",
       "    <tr>\n",
       "      <th>2</th>\n",
       "      <td>/4pk2VbOb2td7iBZyir6Ji46HH4N.jpg,/iCOzbSzCSUC6...</td>\n",
       "      <td>/vD8HCP04NbxS4Tb6AoRjBtHb3qA.jpg</td>\n",
       "      <td>16227.0</td>\n",
       "      <td>/dvwmiD6qQ05gojrFQRaFbdhbNDF.jpg</td>\n",
       "    </tr>\n",
       "    <tr>\n",
       "      <th>3</th>\n",
       "      <td>/u0AqTz6Y7GHPCHINS01P7gPvDSb.jpg,/h6i3fZoFuKxD...</td>\n",
       "      <td>/4GxIZX5gtbMpW4ZgHwvGmLSIHOE.jpg</td>\n",
       "      <td>37165.0</td>\n",
       "      <td>/e5EMJEQnWkWb8G6sTMkN91qiqUz.jpg</td>\n",
       "    </tr>\n",
       "    <tr>\n",
       "      <th>4</th>\n",
       "      <td>/1MBEPN0Y4YvIJAw3WOqBOeALDFT.jpg,/r9S9bUV6tz2y...</td>\n",
       "      <td>None</td>\n",
       "      <td>261470.0</td>\n",
       "      <td>/wk7ieVV9UzwpomQmx0Q4g39dI9x.jpg</td>\n",
       "    </tr>\n",
       "  </tbody>\n",
       "</table>\n",
       "</div>"
      ],
      "text/plain": [
       "                                                cast  \\\n",
       "0  /uqqgAdPfi1TmG3tfKfhsf20fHE6.jpg,/mHsHV3SWodFL...   \n",
       "1  /wcPQgZLDibuej1RwNTy1R2U2ZJw.jpg,/5U35yScoao1h...   \n",
       "2  /4pk2VbOb2td7iBZyir6Ji46HH4N.jpg,/iCOzbSzCSUC6...   \n",
       "3  /u0AqTz6Y7GHPCHINS01P7gPvDSb.jpg,/h6i3fZoFuKxD...   \n",
       "4  /1MBEPN0Y4YvIJAw3WOqBOeALDFT.jpg,/r9S9bUV6tz2y...   \n",
       "\n",
       "                               crew        id  \\\n",
       "0  /dKlaXJk3NLcsC1CKMx6xmyW5BZD.jpg  519010.0   \n",
       "1  /wcPQgZLDibuej1RwNTy1R2U2ZJw.jpg   11337.0   \n",
       "2  /vD8HCP04NbxS4Tb6AoRjBtHb3qA.jpg   16227.0   \n",
       "3  /4GxIZX5gtbMpW4ZgHwvGmLSIHOE.jpg   37165.0   \n",
       "4                              None  261470.0   \n",
       "\n",
       "                             poster  \n",
       "0  /ptlSYkLFUmNhwkskyTMOFPFUqSh.jpg  \n",
       "1  /y1EHgpL2hMVRcr6tIOy7VGLxaPs.jpg  \n",
       "2  /dvwmiD6qQ05gojrFQRaFbdhbNDF.jpg  \n",
       "3  /e5EMJEQnWkWb8G6sTMkN91qiqUz.jpg  \n",
       "4  /wk7ieVV9UzwpomQmx0Q4g39dI9x.jpg  "
      ]
     },
     "execution_count": 108,
     "metadata": {},
     "output_type": "execute_result"
    }
   ],
   "source": [
    "recommender_data.head()"
   ]
  },
  {
   "cell_type": "code",
   "execution_count": 102,
   "metadata": {},
   "outputs": [],
   "source": [
    "poster_data.drop(columns=['Unnamed: 0'],inplace=True)"
   ]
  },
  {
   "cell_type": "code",
   "execution_count": 105,
   "metadata": {},
   "outputs": [],
   "source": [
    "poster_data.to_csv('poster.csv',index=False)"
   ]
  },
  {
   "cell_type": "code",
   "execution_count": null,
   "metadata": {},
   "outputs": [],
   "source": []
  }
 ],
 "metadata": {
  "kernelspec": {
   "display_name": "Python 3",
   "language": "python",
   "name": "python3"
  },
  "language_info": {
   "codemirror_mode": {
    "name": "ipython",
    "version": 3
   },
   "file_extension": ".py",
   "mimetype": "text/x-python",
   "name": "python",
   "nbconvert_exporter": "python",
   "pygments_lexer": "ipython3",
   "version": "3.7.6"
  }
 },
 "nbformat": 4,
 "nbformat_minor": 4
}

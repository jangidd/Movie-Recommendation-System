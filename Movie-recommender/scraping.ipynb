{
 "cells": [
  {
   "cell_type": "code",
   "execution_count": 49,
   "metadata": {},
   "outputs": [],
   "source": [
    "import pandas as pd\n",
    "import requests\n",
    "import ast"
   ]
  },
  {
   "cell_type": "code",
   "execution_count": 50,
   "metadata": {},
   "outputs": [],
   "source": [
    "api_key = \"b70714a85f6c0096ed303107f5ffdf6b\""
   ]
  },
  {
   "cell_type": "code",
   "execution_count": 51,
   "metadata": {},
   "outputs": [],
   "source": [
    "data = pd.DataFrame()"
   ]
  },
  {
   "cell_type": "code",
   "execution_count": 52,
   "metadata": {},
   "outputs": [],
   "source": [
    "for i in range(1,475):\n",
    "    response = requests.get(\"https://api.themoviedb.org/3/movie/top_rated?api_key=\"+(api_key)+\"&language=en-US&page={}\".format(i))\n",
    "    temp_df = pd.DataFrame(response.json()['results'])[['id','title','overview','popularity','vote_average','vote_count','release_date']]\n",
    "    data = data.append(temp_df,ignore_index=True)"
   ]
  },
  {
   "cell_type": "code",
   "execution_count": 53,
   "metadata": {},
   "outputs": [
    {
     "data": {
      "text/html": [
       "<div>\n",
       "<style scoped>\n",
       "    .dataframe tbody tr th:only-of-type {\n",
       "        vertical-align: middle;\n",
       "    }\n",
       "\n",
       "    .dataframe tbody tr th {\n",
       "        vertical-align: top;\n",
       "    }\n",
       "\n",
       "    .dataframe thead th {\n",
       "        text-align: right;\n",
       "    }\n",
       "</style>\n",
       "<table border=\"1\" class=\"dataframe\">\n",
       "  <thead>\n",
       "    <tr style=\"text-align: right;\">\n",
       "      <th></th>\n",
       "      <th>id</th>\n",
       "      <th>title</th>\n",
       "      <th>overview</th>\n",
       "      <th>popularity</th>\n",
       "      <th>vote_average</th>\n",
       "      <th>vote_count</th>\n",
       "      <th>release_date</th>\n",
       "    </tr>\n",
       "  </thead>\n",
       "  <tbody>\n",
       "    <tr>\n",
       "      <th>0</th>\n",
       "      <td>19404</td>\n",
       "      <td>Dilwale Dulhania Le Jayenge</td>\n",
       "      <td>Raj is a rich, carefree, happy-go-lucky second...</td>\n",
       "      <td>29.033</td>\n",
       "      <td>8.7</td>\n",
       "      <td>3326</td>\n",
       "      <td>1995-10-20</td>\n",
       "    </tr>\n",
       "    <tr>\n",
       "      <th>1</th>\n",
       "      <td>278</td>\n",
       "      <td>The Shawshank Redemption</td>\n",
       "      <td>Framed in the 1940s for the double murder of h...</td>\n",
       "      <td>75.698</td>\n",
       "      <td>8.7</td>\n",
       "      <td>20445</td>\n",
       "      <td>1994-09-23</td>\n",
       "    </tr>\n",
       "    <tr>\n",
       "      <th>2</th>\n",
       "      <td>238</td>\n",
       "      <td>The Godfather</td>\n",
       "      <td>Spanning the years 1945 to 1955, a chronicle o...</td>\n",
       "      <td>82.196</td>\n",
       "      <td>8.7</td>\n",
       "      <td>15276</td>\n",
       "      <td>1972-03-14</td>\n",
       "    </tr>\n",
       "    <tr>\n",
       "      <th>3</th>\n",
       "      <td>724089</td>\n",
       "      <td>Gabriel's Inferno Part II</td>\n",
       "      <td>Professor Gabriel Emerson finally learns the t...</td>\n",
       "      <td>19.855</td>\n",
       "      <td>8.6</td>\n",
       "      <td>1370</td>\n",
       "      <td>2020-07-31</td>\n",
       "    </tr>\n",
       "    <tr>\n",
       "      <th>4</th>\n",
       "      <td>424</td>\n",
       "      <td>Schindler's List</td>\n",
       "      <td>The true story of how businessman Oskar Schind...</td>\n",
       "      <td>40.638</td>\n",
       "      <td>8.6</td>\n",
       "      <td>12208</td>\n",
       "      <td>1993-11-30</td>\n",
       "    </tr>\n",
       "  </tbody>\n",
       "</table>\n",
       "</div>"
      ],
      "text/plain": [
       "       id                        title  \\\n",
       "0   19404  Dilwale Dulhania Le Jayenge   \n",
       "1     278     The Shawshank Redemption   \n",
       "2     238                The Godfather   \n",
       "3  724089    Gabriel's Inferno Part II   \n",
       "4     424             Schindler's List   \n",
       "\n",
       "                                            overview  popularity  \\\n",
       "0  Raj is a rich, carefree, happy-go-lucky second...      29.033   \n",
       "1  Framed in the 1940s for the double murder of h...      75.698   \n",
       "2  Spanning the years 1945 to 1955, a chronicle o...      82.196   \n",
       "3  Professor Gabriel Emerson finally learns the t...      19.855   \n",
       "4  The true story of how businessman Oskar Schind...      40.638   \n",
       "\n",
       "   vote_average  vote_count release_date  \n",
       "0           8.7        3326   1995-10-20  \n",
       "1           8.7       20445   1994-09-23  \n",
       "2           8.7       15276   1972-03-14  \n",
       "3           8.6        1370   2020-07-31  \n",
       "4           8.6       12208   1993-11-30  "
      ]
     },
     "execution_count": 53,
     "metadata": {},
     "output_type": "execute_result"
    }
   ],
   "source": [
    "data.head()"
   ]
  },
  {
   "cell_type": "code",
   "execution_count": 54,
   "metadata": {},
   "outputs": [],
   "source": [
    "id_list = list(data[\"id\"])"
   ]
  },
  {
   "cell_type": "code",
   "execution_count": 55,
   "metadata": {},
   "outputs": [],
   "source": [
    "def convert(obj):\n",
    "    l = []\n",
    "    for i in ast.literal_eval(str(obj)):\n",
    "        l.append(i['name'])\n",
    "    return l\n",
    "def convert3(obj):\n",
    "    l = []\n",
    "    counter = 0\n",
    "    for i in ast.literal_eval(str(obj)):\n",
    "        if counter != 7:\n",
    "            l.append(i['name'])\n",
    "            counter = counter+1\n",
    "        else:\n",
    "            break\n",
    "    return l\n",
    "def fetch_director(obj):\n",
    "    l = []\n",
    "    for i in ast.literal_eval(str(obj)):\n",
    "        if i['job'] == 'Director':\n",
    "            l.append(i['name'])\n",
    "            break\n",
    "    return l\n",
    "def convert3_link(obj):\n",
    "    l = []\n",
    "    counter = 0\n",
    "    for i in ast.literal_eval(str(obj)):\n",
    "        if counter != 7:\n",
    "            l.append(i['profile_path'])\n",
    "            counter = counter+1\n",
    "        else:\n",
    "            break\n",
    "    return l\n",
    "def fetch_director_link(obj):\n",
    "    l = []\n",
    "    for i in ast.literal_eval(str(obj)):\n",
    "        if i['job'] == 'Director':\n",
    "            l.append(i['profile_path'])\n",
    "            break\n",
    "    return l"
   ]
  },
  {
   "cell_type": "code",
   "execution_count": 56,
   "metadata": {},
   "outputs": [],
   "source": [
    "credit_data = pd.DataFrame()\n",
    "for i in id_list:\n",
    "    response = requests.get(\"https://api.themoviedb.org/3/movie/{}/credits?api_key=\".format(i)+api_key+\"&language=en-US\")\n",
    "    cast = (response.json()['cast'])\n",
    "    crew = (response.json()['crew'])\n",
    "    dict = {'id':i,'cast':cast,'crew':crew}\n",
    "    credit_data=credit_data.append(dict,ignore_index=True)"
   ]
  },
  {
   "cell_type": "code",
   "execution_count": 57,
   "metadata": {},
   "outputs": [
    {
     "data": {
      "text/html": [
       "<div>\n",
       "<style scoped>\n",
       "    .dataframe tbody tr th:only-of-type {\n",
       "        vertical-align: middle;\n",
       "    }\n",
       "\n",
       "    .dataframe tbody tr th {\n",
       "        vertical-align: top;\n",
       "    }\n",
       "\n",
       "    .dataframe thead th {\n",
       "        text-align: right;\n",
       "    }\n",
       "</style>\n",
       "<table border=\"1\" class=\"dataframe\">\n",
       "  <thead>\n",
       "    <tr style=\"text-align: right;\">\n",
       "      <th></th>\n",
       "      <th>cast</th>\n",
       "      <th>crew</th>\n",
       "      <th>id</th>\n",
       "    </tr>\n",
       "  </thead>\n",
       "  <tbody>\n",
       "    <tr>\n",
       "      <th>0</th>\n",
       "      <td>[{'adult': False, 'gender': 2, 'id': 35742, 'k...</td>\n",
       "      <td>[{'adult': False, 'gender': 1, 'id': 8311, 'kn...</td>\n",
       "      <td>19404.0</td>\n",
       "    </tr>\n",
       "    <tr>\n",
       "      <th>1</th>\n",
       "      <td>[{'adult': False, 'gender': 2, 'id': 504, 'kno...</td>\n",
       "      <td>[{'adult': False, 'gender': 2, 'id': 153, 'kno...</td>\n",
       "      <td>278.0</td>\n",
       "    </tr>\n",
       "    <tr>\n",
       "      <th>2</th>\n",
       "      <td>[{'adult': False, 'gender': 2, 'id': 3084, 'kn...</td>\n",
       "      <td>[{'adult': False, 'gender': 2, 'id': 1776, 'kn...</td>\n",
       "      <td>238.0</td>\n",
       "    </tr>\n",
       "    <tr>\n",
       "      <th>3</th>\n",
       "      <td>[{'adult': False, 'gender': 1, 'id': 1312450, ...</td>\n",
       "      <td>[{'adult': False, 'gender': 2, 'id': 22143, 'k...</td>\n",
       "      <td>724089.0</td>\n",
       "    </tr>\n",
       "  </tbody>\n",
       "</table>\n",
       "</div>"
      ],
      "text/plain": [
       "                                                cast  \\\n",
       "0  [{'adult': False, 'gender': 2, 'id': 35742, 'k...   \n",
       "1  [{'adult': False, 'gender': 2, 'id': 504, 'kno...   \n",
       "2  [{'adult': False, 'gender': 2, 'id': 3084, 'kn...   \n",
       "3  [{'adult': False, 'gender': 1, 'id': 1312450, ...   \n",
       "\n",
       "                                                crew        id  \n",
       "0  [{'adult': False, 'gender': 1, 'id': 8311, 'kn...   19404.0  \n",
       "1  [{'adult': False, 'gender': 2, 'id': 153, 'kno...     278.0  \n",
       "2  [{'adult': False, 'gender': 2, 'id': 1776, 'kn...     238.0  \n",
       "3  [{'adult': False, 'gender': 2, 'id': 22143, 'k...  724089.0  "
      ]
     },
     "execution_count": 57,
     "metadata": {},
     "output_type": "execute_result"
    }
   ],
   "source": [
    "credit_data.head(4)"
   ]
  },
  {
   "cell_type": "code",
   "execution_count": 58,
   "metadata": {},
   "outputs": [],
   "source": [
    "data = data.merge(credit_data,on='id')"
   ]
  },
  {
   "cell_type": "code",
   "execution_count": 59,
   "metadata": {},
   "outputs": [
    {
     "data": {
      "text/html": [
       "<div>\n",
       "<style scoped>\n",
       "    .dataframe tbody tr th:only-of-type {\n",
       "        vertical-align: middle;\n",
       "    }\n",
       "\n",
       "    .dataframe tbody tr th {\n",
       "        vertical-align: top;\n",
       "    }\n",
       "\n",
       "    .dataframe thead th {\n",
       "        text-align: right;\n",
       "    }\n",
       "</style>\n",
       "<table border=\"1\" class=\"dataframe\">\n",
       "  <thead>\n",
       "    <tr style=\"text-align: right;\">\n",
       "      <th></th>\n",
       "      <th>id</th>\n",
       "      <th>title</th>\n",
       "      <th>overview</th>\n",
       "      <th>popularity</th>\n",
       "      <th>vote_average</th>\n",
       "      <th>vote_count</th>\n",
       "      <th>release_date</th>\n",
       "      <th>cast</th>\n",
       "      <th>crew</th>\n",
       "    </tr>\n",
       "  </thead>\n",
       "  <tbody>\n",
       "    <tr>\n",
       "      <th>0</th>\n",
       "      <td>19404</td>\n",
       "      <td>Dilwale Dulhania Le Jayenge</td>\n",
       "      <td>Raj is a rich, carefree, happy-go-lucky second...</td>\n",
       "      <td>29.033</td>\n",
       "      <td>8.7</td>\n",
       "      <td>3326</td>\n",
       "      <td>1995-10-20</td>\n",
       "      <td>[{'adult': False, 'gender': 2, 'id': 35742, 'k...</td>\n",
       "      <td>[{'adult': False, 'gender': 1, 'id': 8311, 'kn...</td>\n",
       "    </tr>\n",
       "    <tr>\n",
       "      <th>1</th>\n",
       "      <td>278</td>\n",
       "      <td>The Shawshank Redemption</td>\n",
       "      <td>Framed in the 1940s for the double murder of h...</td>\n",
       "      <td>75.698</td>\n",
       "      <td>8.7</td>\n",
       "      <td>20445</td>\n",
       "      <td>1994-09-23</td>\n",
       "      <td>[{'adult': False, 'gender': 2, 'id': 504, 'kno...</td>\n",
       "      <td>[{'adult': False, 'gender': 2, 'id': 153, 'kno...</td>\n",
       "    </tr>\n",
       "    <tr>\n",
       "      <th>2</th>\n",
       "      <td>238</td>\n",
       "      <td>The Godfather</td>\n",
       "      <td>Spanning the years 1945 to 1955, a chronicle o...</td>\n",
       "      <td>82.196</td>\n",
       "      <td>8.7</td>\n",
       "      <td>15276</td>\n",
       "      <td>1972-03-14</td>\n",
       "      <td>[{'adult': False, 'gender': 2, 'id': 3084, 'kn...</td>\n",
       "      <td>[{'adult': False, 'gender': 2, 'id': 1776, 'kn...</td>\n",
       "    </tr>\n",
       "    <tr>\n",
       "      <th>3</th>\n",
       "      <td>724089</td>\n",
       "      <td>Gabriel's Inferno Part II</td>\n",
       "      <td>Professor Gabriel Emerson finally learns the t...</td>\n",
       "      <td>19.855</td>\n",
       "      <td>8.6</td>\n",
       "      <td>1370</td>\n",
       "      <td>2020-07-31</td>\n",
       "      <td>[{'adult': False, 'gender': 1, 'id': 1312450, ...</td>\n",
       "      <td>[{'adult': False, 'gender': 2, 'id': 22143, 'k...</td>\n",
       "    </tr>\n",
       "    <tr>\n",
       "      <th>4</th>\n",
       "      <td>424</td>\n",
       "      <td>Schindler's List</td>\n",
       "      <td>The true story of how businessman Oskar Schind...</td>\n",
       "      <td>40.638</td>\n",
       "      <td>8.6</td>\n",
       "      <td>12208</td>\n",
       "      <td>1993-11-30</td>\n",
       "      <td>[{'adult': False, 'gender': 2, 'id': 3896, 'kn...</td>\n",
       "      <td>[{'adult': False, 'gender': 2, 'id': 491, 'kno...</td>\n",
       "    </tr>\n",
       "  </tbody>\n",
       "</table>\n",
       "</div>"
      ],
      "text/plain": [
       "       id                        title  \\\n",
       "0   19404  Dilwale Dulhania Le Jayenge   \n",
       "1     278     The Shawshank Redemption   \n",
       "2     238                The Godfather   \n",
       "3  724089    Gabriel's Inferno Part II   \n",
       "4     424             Schindler's List   \n",
       "\n",
       "                                            overview  popularity  \\\n",
       "0  Raj is a rich, carefree, happy-go-lucky second...      29.033   \n",
       "1  Framed in the 1940s for the double murder of h...      75.698   \n",
       "2  Spanning the years 1945 to 1955, a chronicle o...      82.196   \n",
       "3  Professor Gabriel Emerson finally learns the t...      19.855   \n",
       "4  The true story of how businessman Oskar Schind...      40.638   \n",
       "\n",
       "   vote_average  vote_count release_date  \\\n",
       "0           8.7        3326   1995-10-20   \n",
       "1           8.7       20445   1994-09-23   \n",
       "2           8.7       15276   1972-03-14   \n",
       "3           8.6        1370   2020-07-31   \n",
       "4           8.6       12208   1993-11-30   \n",
       "\n",
       "                                                cast  \\\n",
       "0  [{'adult': False, 'gender': 2, 'id': 35742, 'k...   \n",
       "1  [{'adult': False, 'gender': 2, 'id': 504, 'kno...   \n",
       "2  [{'adult': False, 'gender': 2, 'id': 3084, 'kn...   \n",
       "3  [{'adult': False, 'gender': 1, 'id': 1312450, ...   \n",
       "4  [{'adult': False, 'gender': 2, 'id': 3896, 'kn...   \n",
       "\n",
       "                                                crew  \n",
       "0  [{'adult': False, 'gender': 1, 'id': 8311, 'kn...  \n",
       "1  [{'adult': False, 'gender': 2, 'id': 153, 'kno...  \n",
       "2  [{'adult': False, 'gender': 2, 'id': 1776, 'kn...  \n",
       "3  [{'adult': False, 'gender': 2, 'id': 22143, 'k...  \n",
       "4  [{'adult': False, 'gender': 2, 'id': 491, 'kno...  "
      ]
     },
     "execution_count": 59,
     "metadata": {},
     "output_type": "execute_result"
    }
   ],
   "source": [
    "data.head()"
   ]
  },
  {
   "cell_type": "code",
   "execution_count": 60,
   "metadata": {},
   "outputs": [],
   "source": [
    "#keywords\n",
    "#https://api.themoviedb.org/3/movie/{movie_id}/keywords?api_key=<<api_key>>\n",
    "#genres\n",
    "#https://api.themoviedb.org/3/movie/{movie_id}?api_key=<<api_key>>&language=en-US"
   ]
  },
  {
   "cell_type": "code",
   "execution_count": 61,
   "metadata": {},
   "outputs": [],
   "source": [
    "keyword_data = pd.DataFrame()\n",
    "for i in id_list:\n",
    "    response = requests.get(\"https://api.themoviedb.org/3/movie/{}/keywords?api_key=\".format(i)+api_key)\n",
    "    keyword = response.json()['keywords']\n",
    "    dict = {'id':i,'keywords':keyword}\n",
    "    keyword_data = keyword_data.append(dict,ignore_index=True)"
   ]
  },
  {
   "cell_type": "code",
   "execution_count": null,
   "metadata": {},
   "outputs": [],
   "source": [
    "genres_data = pd.DataFrame()\n",
    "for i in id_list:\n",
    "    response = requests.get(\"https://api.themoviedb.org/3/movie/{}?api_key=\".format(i)+api_key+\"&language=en-US\")\n",
    "    genres = response.json()['genres']\n",
    "    dict = {'id':i,'genres':genres}\n",
    "    genres_data = genres_data.append(dict,ignore_index=True)"
   ]
  },
  {
   "cell_type": "code",
   "execution_count": null,
   "metadata": {},
   "outputs": [],
   "source": [
    "data = data.merge(keyword_data,on='id')\n",
    "data = data.merge(genres_data,on='id')"
   ]
  },
  {
   "cell_type": "code",
   "execution_count": null,
   "metadata": {},
   "outputs": [],
   "source": [
    "data.head()"
   ]
  },
  {
   "cell_type": "code",
   "execution_count": null,
   "metadata": {},
   "outputs": [],
   "source": [
    "data.genres=data.genres.apply(convert)\n",
    "data.keywords=data.keywords.apply(convert)"
   ]
  },
  {
   "cell_type": "code",
   "execution_count": null,
   "metadata": {},
   "outputs": [],
   "source": [
    "data.head()"
   ]
  },
  {
   "cell_type": "code",
   "execution_count": null,
   "metadata": {},
   "outputs": [],
   "source": [
    "data['cast_poster']=data['cast'].apply(convert3_link)\n",
    "data['crew_poster'] = data['crew'].apply(fetch_director_link)"
   ]
  },
  {
   "cell_type": "code",
   "execution_count": null,
   "metadata": {},
   "outputs": [],
   "source": [
    "data.head()"
   ]
  },
  {
   "cell_type": "code",
   "execution_count": null,
   "metadata": {},
   "outputs": [],
   "source": []
  },
  {
   "cell_type": "code",
   "execution_count": null,
   "metadata": {},
   "outputs": [],
   "source": []
  },
  {
   "cell_type": "code",
   "execution_count": null,
   "metadata": {},
   "outputs": [],
   "source": []
  },
  {
   "cell_type": "code",
   "execution_count": null,
   "metadata": {},
   "outputs": [],
   "source": []
  },
  {
   "cell_type": "code",
   "execution_count": null,
   "metadata": {},
   "outputs": [],
   "source": []
  },
  {
   "cell_type": "code",
   "execution_count": null,
   "metadata": {},
   "outputs": [],
   "source": []
  },
  {
   "cell_type": "code",
   "execution_count": null,
   "metadata": {},
   "outputs": [],
   "source": []
  },
  {
   "cell_type": "code",
   "execution_count": null,
   "metadata": {},
   "outputs": [],
   "source": []
  },
  {
   "cell_type": "code",
   "execution_count": null,
   "metadata": {},
   "outputs": [],
   "source": []
  },
  {
   "cell_type": "code",
   "execution_count": null,
   "metadata": {},
   "outputs": [],
   "source": []
  },
  {
   "cell_type": "code",
   "execution_count": null,
   "metadata": {},
   "outputs": [],
   "source": []
  }
 ],
 "metadata": {
  "interpreter": {
   "hash": "1b4718f32b71f765b7be67151b0ddf63f4286279cc10b3a2ad4a900a934b01ad"
  },
  "kernelspec": {
   "display_name": "Python 3",
   "language": "python",
   "name": "python3"
  },
  "language_info": {
   "codemirror_mode": {
    "name": "ipython",
    "version": 3
   },
   "file_extension": ".py",
   "mimetype": "text/x-python",
   "name": "python",
   "nbconvert_exporter": "python",
   "pygments_lexer": "ipython3",
   "version": "3.7.6"
  }
 },
 "nbformat": 4,
 "nbformat_minor": 2
}
